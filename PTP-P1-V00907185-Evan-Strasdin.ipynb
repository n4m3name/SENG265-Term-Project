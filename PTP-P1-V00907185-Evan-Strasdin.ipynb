{
 "cells": [
  {
   "cell_type": "markdown",
   "metadata": {},
   "source": [
    "# Term Portfolio Project {-}"
   ]
  },
  {
   "cell_type": "markdown",
   "metadata": {},
   "source": [
    "Evan Strasdin  \n",
    "University of Victoria  \n",
    "SENG-265, Winter 2023-24  \n"
   ]
  },
  {
   "cell_type": "markdown",
   "metadata": {},
   "source": [
    "____"
   ]
  },
  {
   "cell_type": "markdown",
   "metadata": {},
   "source": [
    "## Table of Contents {-}\n",
    "1. [Introduction: Jupyter Magics, Creating a Table of Contents](#introduction-jupyter-magics-creating-a-table-of-contents) (Week 1)\n",
    "   - [About notebooks, magics](#about-notebooks-magics)\n",
    "   - [Creating a custom magic](#creating-a-custom-magic)\n",
    "   - [Creating a table of contents](#creating-a-table-of-contents)\n",
    "2. [Bash](#bash) (Weeks 2-4)\n",
    "   - [`man` and '--help`](#the-most-useful-command-line-tools-man-and---help)\n",
    "   - [Shell scripting](#shell-scripting)\n",
    "   - [Aliases](#aliases)\n",
    "3. [C](#c) (Weeks 3-5)\n",
    "   - [C and bash](#c-and-bash)\n",
    "   - [Pointers](#pointers)\n",
    "   - [C libraries](#c-libraries)\n",
    "4. [Answers to Selected Questions](#answers-to-selected-questions)\n",
    "5. [Citations and References](#citations-and-references)"
   ]
  },
  {
   "cell_type": "markdown",
   "metadata": {},
   "source": [
    "____"
   ]
  },
  {
   "cell_type": "markdown",
   "metadata": {},
   "source": [
    "## Introduction: Jupyter Magics, Creating a Table of Contents {-}"
   ]
  },
  {
   "cell_type": "markdown",
   "metadata": {},
   "source": [
    "### About notebooks, magics {-}"
   ]
  },
  {
   "cell_type": "markdown",
   "metadata": {},
   "source": [
    "I've included the section on magics and markdown tables of contents since, if you're like me, you love the idea of a single file which can be navigated like a wiki, can support both markdown and usable code in just about any language and can be exported directly to html for publishing online.\n",
    "\n",
    "Magics are special commands that provide additional functionality within Jupyter notebooks. If you can't figure out how to do something specific with your notebook, there's a good chance you can do it with a magic.\n",
    "\n",
    "I have a good amount of experience using Jupyter notebooks but little experience using magics (or python scripts for that matter), so I've decided to see if the all-knowing chatGPT could help me out. My goal for now is to add support for C and Python cells in the same notebook, and to create a working table of contents to make this file navigable."
   ]
  },
  {
   "cell_type": "markdown",
   "metadata": {},
   "source": [
    "### Creating a custom magic {-}"
   ]
  },
  {
   "cell_type": "markdown",
   "metadata": {},
   "source": [
    "#### 1. Create a Python module for your magic command {-}"
   ]
  },
  {
   "cell_type": "markdown",
   "metadata": {},
   "source": [
    "This chatGPT code defines the behavior of the custom magic:"
   ]
  },
  {
   "cell_type": "code",
   "execution_count": 6,
   "metadata": {},
   "outputs": [],
   "source": [
    "# Module contents for C language support\n",
    "\n",
    "from IPython.core.magic import Magics, magics_class, cell_magic\n",
    "from IPython import get_ipython\n",
    "import subprocess\n",
    "\n",
    "@magics_class\n",
    "class CMagic(Magics):\n",
    "    @cell_magic\n",
    "    def c(self, line, cell):\n",
    "        # Save the C code to a temporary file\n",
    "        with open('temp.c', 'w') as f:\n",
    "            f.write(cell)\n",
    "\n",
    "        # Compile the C code\n",
    "        compile_command = f'gcc -o temp_executable temp.c'\n",
    "        compile_result = subprocess.run(compile_command, shell=True, stdout=subprocess.PIPE, stderr=subprocess.PIPE, text=True)\n",
    "\n",
    "        if compile_result.returncode == 0:\n",
    "            # If compilation is successful, execute the compiled code\n",
    "            execute_command = './temp_executable'\n",
    "            execute_result = subprocess.run(execute_command, shell=True, stdout=subprocess.PIPE, stderr=subprocess.PIPE, text=True)\n",
    "            print(execute_result.stdout)\n",
    "            print(execute_result.stderr)\n",
    "        else:\n",
    "            # If compilation fails, print the error message\n",
    "            print(compile_result.stderr)\n",
    "\n",
    "# Register the magic command\n",
    "ip = get_ipython()\n",
    "ip.register_magics(CMagic)\n"
   ]
  },
  {
   "cell_type": "markdown",
   "metadata": {},
   "source": [
    "In order to make this code usable (a module) it must be in a .py file. To save some time we can run the cell below, which creates this file for us:"
   ]
  },
  {
   "cell_type": "code",
   "execution_count": 7,
   "metadata": {},
   "outputs": [],
   "source": [
    "# Define the code to be included in either module as multiline strings,\n",
    "# copy-pasted from above\n",
    "\n",
    "module_code_c = \"\"\"\n",
    "from IPython.core.magic import Magics, magics_class, cell_magic\n",
    "from IPython import get_ipython\n",
    "import subprocess\n",
    "\n",
    "@magics_class\n",
    "class CMagic(Magics):\n",
    "    @cell_magic\n",
    "    def c(self, line, cell):\n",
    "        # Save the C code to a temporary file\n",
    "        with open('temp.c', 'w') as f:\n",
    "            f.write(cell)\n",
    "\n",
    "        # Compile the C code\n",
    "        compile_command = f'gcc -o temp_executable temp.c'\n",
    "        compile_result = subprocess.run(compile_command, shell=True, stdout=subprocess.PIPE, stderr=subprocess.PIPE, text=True)\n",
    "\n",
    "        if compile_result.returncode == 0:\n",
    "            # If compilation is successful, execute the compiled code\n",
    "            execute_command = './temp_executable'\n",
    "            execute_result = subprocess.run(execute_command, shell=True, stdout=subprocess.PIPE, stderr=subprocess.PIPE, text=True)\n",
    "            print(execute_result.stdout)\n",
    "            print(execute_result.stderr)\n",
    "        else:\n",
    "            # If compilation fails, print the error message\n",
    "            print(compile_result.stderr)\n",
    "\n",
    "# Register the magic command\n",
    "ip = get_ipython()\n",
    "ip.register_magics(CMagic)\n",
    "\"\"\"\n",
    "\n",
    "# Write the strings to file\n",
    "with open('c_magic.py', 'w') as f2:\n",
    "    f2.write(module_code_c)"
   ]
  },
  {
   "cell_type": "markdown",
   "metadata": {},
   "source": [
    "Our python module is complete!"
   ]
  },
  {
   "cell_type": "markdown",
   "metadata": {},
   "source": [
    "#### 2. Load and use the magic command {-}"
   ]
  },
  {
   "cell_type": "code",
   "execution_count": 8,
   "metadata": {},
   "outputs": [],
   "source": [
    "# Commands to initialize %%c\n",
    "%load_ext autoreload\n",
    "%autoreload 2\n",
    "%run c_magic.py"
   ]
  },
  {
   "cell_type": "code",
   "execution_count": 9,
   "metadata": {},
   "outputs": [
    {
     "name": "stdout",
     "output_type": "stream",
     "text": [
      "Hello, C programming in Jupyter!\n",
      "\n"
     ]
    }
   ],
   "source": [
    "%%c\n",
    "#include <stdio.h>\n",
    "\n",
    "int main() {\n",
    "    printf(\"Hello, C programming in Jupyter!\");\n",
    "    return 0;\n",
    "}"
   ]
  },
  {
   "cell_type": "markdown",
   "metadata": {},
   "source": [
    "[Back to top](#term-portfolio-project)"
   ]
  },
  {
   "cell_type": "markdown",
   "metadata": {},
   "source": [
    "### Creating a table of contents {-}"
   ]
  },
  {
   "cell_type": "markdown",
   "metadata": {},
   "source": [
    "I used chatGPT to get a basic idea of how a table of contents works in markdown (and thus Jupyter). Here's the output:"
   ]
  },
  {
   "cell_type": "markdown",
   "metadata": {},
   "source": [
    "     Table of Contents\n",
    "    \n",
    "    - [Link to Section 1](#section-1)\n",
    "    - [Link to Section 2](#section-2)\n",
    "    \n",
    "    ---\n",
    "    \n",
    "    <a id=\"section-1\"></a>\n",
    "    ## Section 1\n",
    "    \n",
    "    This is the content of Section 1.\n",
    "    \n",
    "    ---\n",
    "    \n",
    "    <a id=\"section-2\"></a>\n",
    "    ## Section 2\n",
    "    \n",
    "    This is the content of Section 2."
   ]
  },
  {
   "cell_type": "markdown",
   "metadata": {},
   "source": [
    "Note that the `<a id=\"section-1\"></a>` HTML anchors aren't always necessary, since many markdown editors (and editing tools, such as [markdown all in one](https://marketplace.visualstudio.com/items?itemName=yzhang.markdown-all-in-one)) write anchors automatically based on headings.\n",
    "\n",
    "Another fun fact about anchors is that we can use them for internal linking, for example the markdown text `[Some text](#section-1)` would create a link to the header `## Section 1` in the above document, regardless of where it's located in the document.\n",
    "\n",
    "I'm sure you've seen it already, but here's the [finished product](#table-of-contents)"
   ]
  },
  {
   "cell_type": "markdown",
   "metadata": {},
   "source": [
    "[Back to top](#term-portfolio-project)"
   ]
  },
  {
   "cell_type": "markdown",
   "metadata": {},
   "source": [
    "____"
   ]
  },
  {
   "cell_type": "markdown",
   "metadata": {},
   "source": [
    "## Bash {-}"
   ]
  },
  {
   "cell_type": "markdown",
   "metadata": {},
   "source": [
    "### The most useful command line tools: `man` and `--help` {-}"
   ]
  },
  {
   "cell_type": "markdown",
   "metadata": {},
   "source": [
    "While `man` (short for manual) and `--help` can't teach you commands, they can be extremely helpful for learning how to use them. For example, let's say we were wondering about the functionality of the `mkdir` command:"
   ]
  },
  {
   "cell_type": "code",
   "execution_count": 10,
   "metadata": {},
   "outputs": [
    {
     "name": "stdout",
     "output_type": "stream",
     "text": [
      "\n",
      "MKDIR(1)                         User Commands                        MKDIR(1)\n",
      "\n",
      "NAME\n",
      "       mkdir - make directories\n",
      "\n",
      "SYNOPSIS\n",
      "       mkdir [OPTION]... DIRECTORY...\n",
      "\n",
      "DESCRIPTION\n",
      "       Create the DIRECTORY(ies), if they do not already exist.\n",
      "\n",
      "       Mandatory  arguments  to  long  options are mandatory for short options\n",
      "       too.\n",
      "\n",
      "       -m, --mode=MODE\n",
      "              set file mode (as in chmod), not a=rwx - umask\n",
      "\n",
      "       -p, --parents\n",
      "              no error if existing, make parent directories  as  needed,  with\n",
      "              their file modes unaffected by any -m option.\n",
      "\n",
      "       -v, --verbose\n",
      "              print a message for each created directory\n",
      "\n",
      "       -Z     set  SELinux  security  context of each created directory to the\n",
      "              default type\n",
      "\n",
      "       --context[=CTX]\n",
      "              like -Z, or if CTX is specified then set the  SELinux  or  SMACK\n",
      "              security context to CTX\n",
      "\n",
      "       --help display this help and exit\n",
      "\n",
      "       --version\n",
      "              output version information and exit\n",
      "\n",
      "AUTHOR\n",
      "       Written by David MacKenzie.\n",
      "\n",
      "REPORTING BUGS\n",
      "       GNU coreutils online help: <https://www.gnu.org/software/coreutils/>\n",
      "       Report any translation bugs to <https://translationproject.org/team/>\n",
      "\n",
      "COPYRIGHT\n",
      "       Copyright  ©  2023  Free Software Foundation, Inc.  License GPLv3+: GNU\n",
      "       GPL version 3 or later <https://gnu.org/licenses/gpl.html>.\n",
      "       This is free software: you are free  to  change  and  redistribute  it.\n",
      "       There is NO WARRANTY, to the extent permitted by law.\n",
      "\n",
      "SEE ALSO\n",
      "       mkdir(2)\n",
      "\n",
      "       Full documentation <https://www.gnu.org/software/coreutils/mkdir>\n",
      "       or available locally via: info '(coreutils) mkdir invocation'\n",
      "\n",
      "GNU coreutils 9.4                January 2024                         MKDIR(1)\n"
     ]
    }
   ],
   "source": [
    "%%bash\n",
    "man mkdir"
   ]
  },
  {
   "cell_type": "code",
   "execution_count": 11,
   "metadata": {},
   "outputs": [
    {
     "name": "stdout",
     "output_type": "stream",
     "text": [
      "Usage: mkdir [OPTION]... DIRECTORY...\n",
      "Create the DIRECTORY(ies), if they do not already exist.\n",
      "\n",
      "Mandatory arguments to long options are mandatory for short options too.\n",
      "  -m, --mode=MODE   set file mode (as in chmod), not a=rwx - umask\n",
      "  -p, --parents     no error if existing, make parent directories as needed,\n",
      "                    with their file modes unaffected by any -m option.\n",
      "  -v, --verbose     print a message for each created directory\n",
      "  -Z                   set SELinux security context of each created directory\n",
      "                         to the default type\n",
      "      --context[=CTX]  like -Z, or if CTX is specified then set the SELinux\n",
      "                         or SMACK security context to CTX\n",
      "      --help        display this help and exit\n",
      "      --version     output version information and exit\n",
      "\n",
      "GNU coreutils online help: <https://www.gnu.org/software/coreutils/>\n",
      "Full documentation <https://www.gnu.org/software/coreutils/mkdir>\n",
      "or available locally via: info '(coreutils) mkdir invocation'\n"
     ]
    }
   ],
   "source": [
    "%%bash\n",
    "mkdir --help"
   ]
  },
  {
   "cell_type": "markdown",
   "metadata": {},
   "source": [
    "Note that the output [differs slightly](https://unix.stackexchange.com/questions/86571/command-help-vs-man-command) - this is because `man` reads directly from the bash manual, while help is a built-in command. This means that all commands should have a manual, and some commands will not have a common `--help` flag available ."
   ]
  },
  {
   "cell_type": "markdown",
   "metadata": {},
   "source": [
    "[Back to top](#term-portfolio-project)"
   ]
  },
  {
   "cell_type": "markdown",
   "metadata": {},
   "source": [
    "### Shell scripting {-}"
   ]
  },
  {
   "cell_type": "markdown",
   "metadata": {},
   "source": [
    "In the same way that [magics](#about-notebooks-magics) can make notebooks more useful, shell scripting allows you to do pretty much anything you can imagine from your command line (as long a you can write the code). In the following example we'll create a simple shell script which allows us to connect to a server using a one-word command."
   ]
  },
  {
   "cell_type": "markdown",
   "metadata": {},
   "source": [
    "#### 1. Creating the file {-}"
   ]
  },
  {
   "cell_type": "markdown",
   "metadata": {},
   "source": [
    "First we need to figure out where we want to keep our file. According to [some guy online](https://unix.stackexchange.com/questions/604818/where-how-should-i-store-scripts), if we want our script to only be accessible by a single user we should store them in `~/bin` or `~/.local/bin`, otherwise we store them in `/usr/local/bin`. Navigate appropriately using the `cd` command:"
   ]
  },
  {
   "cell_type": "markdown",
   "metadata": {},
   "source": [
    "    $ cd ~/bin"
   ]
  },
  {
   "cell_type": "markdown",
   "metadata": {},
   "source": [
    "#### 2. Writing the script {-}"
   ]
  },
  {
   "cell_type": "markdown",
   "metadata": {},
   "source": [
    "To connect to a server in linux, we use the `ssh` command. Here's an example:"
   ]
  },
  {
   "cell_type": "markdown",
   "metadata": {},
   "source": [
    "    $ ssh username@remote_host"
   ]
  },
  {
   "cell_type": "markdown",
   "metadata": {},
   "source": [
    "Note that this code is generic, and the username/host (etc) will differ depending on the server you're trying to connect to. Let's put this command into a new .sh file using `nano`, making sure to include the shebang `#!/bin/bash` which marks the file as executable:"
   ]
  },
  {
   "cell_type": "markdown",
   "metadata": {},
   "source": [
    "    $ nano server"
   ]
  },
  {
   "cell_type": "markdown",
   "metadata": {},
   "source": [
    "The file contents should look like this:"
   ]
  },
  {
   "cell_type": "markdown",
   "metadata": {},
   "source": [
    "    #!/bin/bash\n",
    "    \n",
    "    ssh username@remote_host"
   ]
  },
  {
   "cell_type": "markdown",
   "metadata": {},
   "source": [
    "#### 3. Making it executable {-}"
   ]
  },
  {
   "cell_type": "markdown",
   "metadata": {},
   "source": [
    "We use the `chmod` command as follows (the 'a' allows all users to access the script, the +x makes it executable):"
   ]
  },
  {
   "cell_type": "markdown",
   "metadata": {},
   "source": [
    "    $ chmod a+x server"
   ]
  },
  {
   "cell_type": "markdown",
   "metadata": {},
   "source": [
    "Now when we type `./path/to/file/server` in bash, our file will execute, connecting us to the desired server. Not only that, now we know how to make short commands that do anything we want. Sweet!"
   ]
  },
  {
   "cell_type": "markdown",
   "metadata": {},
   "source": [
    "#### 4. (Optional, extremely useful) Making it available globally {-}"
   ]
  },
  {
   "cell_type": "markdown",
   "metadata": {},
   "source": [
    "In order for the command to be able to be executed from any directory, we have to export the location of the scripts to our PATH, if it's not already. We use the following command to check:"
   ]
  },
  {
   "cell_type": "markdown",
   "metadata": {},
   "source": [
    "    $ echo $PATH"
   ]
  },
  {
   "cell_type": "markdown",
   "metadata": {},
   "source": [
    "This should output a series of directories delimited by \":\". If you don't see \"/home/usr/bin\", we need to add this to our path permanently by making sure it's in our path each time we open a terminal. Otherwise skip this step. We `echo` the following line into our `.bashrc`, the initialization file for bash:"
   ]
  },
  {
   "cell_type": "markdown",
   "metadata": {},
   "source": [
    "    $ echo \"export PATH=$PATH:/home/usr/bin\" >> ~/.bashrc"
   ]
  },
  {
   "cell_type": "markdown",
   "metadata": {},
   "source": [
    "As a last step, we reload `.bashrc` to update the contents using the following command:"
   ]
  },
  {
   "cell_type": "markdown",
   "metadata": {},
   "source": [
    "    $ source ~/.bashrc"
   ]
  },
  {
   "cell_type": "markdown",
   "metadata": {},
   "source": [
    "Now when you run the command `server`, you should be automatically connected to the server of your choice."
   ]
  },
  {
   "cell_type": "markdown",
   "metadata": {},
   "source": [
    "### Aliases {-}"
   ]
  },
  {
   "cell_type": "markdown",
   "metadata": {},
   "source": [
    "The above example was overkill for the sake of instruction. Generally we should leave scripting to running actual programs and use aliases to shorten commands. The folowing one-liner is a concise way to shorten a command:"
   ]
  },
  {
   "cell_type": "markdown",
   "metadata": {},
   "source": [
    "`$ echo \"alias myalias='command_to_run'\" >> ~/.bashrc`"
   ]
  },
  {
   "cell_type": "markdown",
   "metadata": {},
   "source": [
    "We can also use bash functions to get the command to take arguments, but in my opinion this should be left to scripts to avoid having an overcrowded ~/.bashrc file."
   ]
  },
  {
   "cell_type": "markdown",
   "metadata": {},
   "source": [
    "[Back to top](#term-portfolio-project)"
   ]
  },
  {
   "cell_type": "markdown",
   "metadata": {},
   "source": [
    "____"
   ]
  },
  {
   "cell_type": "markdown",
   "metadata": {},
   "source": [
    "## C {-}"
   ]
  },
  {
   "cell_type": "markdown",
   "metadata": {},
   "source": [
    "### C and bash {-}"
   ]
  },
  {
   "cell_type": "markdown",
   "metadata": {},
   "source": [
    "We use gcc ([gnu C compiler](https://gcc.gnu.org/)) to compile and render executabe C files in bash. Here's a basic example:"
   ]
  },
  {
   "cell_type": "markdown",
   "metadata": {},
   "source": [
    "`$ gcc helloworld.c -std=c99 -o helloworld`"
   ]
  },
  {
   "cell_type": "markdown",
   "metadata": {},
   "source": [
    "This compiles the c file 'helloworld.c' using C99 (a version of C from 1999), outputting ('-o') an executable named 'helloworld', which we run using the command `./helloworld`."
   ]
  },
  {
   "cell_type": "markdown",
   "metadata": {},
   "source": [
    "### Pointers {-}"
   ]
  },
  {
   "cell_type": "markdown",
   "metadata": {},
   "source": [
    "The distinguishing feature of C is it's direct access to hardware and data stored in memory. The first occurrence of this I ran into was the use of pointers, which are simple but strange without context. Here's some examples which are fairly close to those found in the course's lecture notes:"
   ]
  },
  {
   "cell_type": "code",
   "execution_count": 29,
   "metadata": {},
   "outputs": [
    {
     "name": "stdout",
     "output_type": "stream",
     "text": [
      "n = 10\n",
      "p = (nil)\n",
      "p = address of n = 0x7ffca04c5aa4\n",
      "p dereferenced = 10\n",
      "p2 dereferenced = 10\n",
      "n = 8\n",
      "n = 6\n",
      "\n",
      "\n"
     ]
    }
   ],
   "source": [
    "%%c\n",
    "\n",
    "#include<stdio.h>\n",
    "#include<stdlib.h>\n",
    "\n",
    "int main(void){\n",
    "    int n = 10; //integer w value '10'\n",
    "    printf(\"n = %d\\n\", n);\n",
    "    int* p = NULL; //int pointer, points to NULL\n",
    "    printf(\"p = %p\\n\", p);\n",
    "\n",
    "    p = &n; // now p contains address of n\n",
    "    printf(\"p = address of n = %p\\n\", p);\\\n",
    "\n",
    "    // Dereferencing p (*p) allows us to indirectly \n",
    "    // access the data stored at whatever address is held\n",
    "    // by p:\n",
    "    printf(\"p dereferenced = %d\\n\", *p);\n",
    "\n",
    "    int** p2 = &p; // Points to p's address\n",
    "    // Dereferencing pp (**p) allows us to indirectly \n",
    "    // access the data stored at whatever address is held\n",
    "    // by p:\n",
    "    printf(\"p2 dereferenced = %d\\n\", **p2);\n",
    "\n",
    "    *p = 8; //changes value at address of n\n",
    "    printf(\"n = %d\\n\", n);\n",
    "\n",
    "    **p2 = 6; //changes value at address of n\n",
    "    printf(\"n = %d\\n\", n);\n",
    "\n",
    "}"
   ]
  },
  {
   "cell_type": "markdown",
   "metadata": {},
   "source": [
    "Note that pointer types should match the type contained at the address they point to, and that we cam't access certain areas of memory (for example, we cannot dereference a `NULL` pointer). Pointer issues will generally result in runtime errors called segmentation faults."
   ]
  },
  {
   "cell_type": "markdown",
   "metadata": {},
   "source": [
    "#### A note on call-by-reference and call-by-value {-}"
   ]
  },
  {
   "cell_type": "markdown",
   "metadata": {},
   "source": [
    "These are mostly self-explanatory methods for passing values to functions (in any programming language, not limited to C). chatGPT supplied the following definitions and examples:"
   ]
  },
  {
   "cell_type": "markdown",
   "metadata": {},
   "source": [
    "1. Call-by-Value:\n",
    "- In call-by-value, a copy of the argument's value is passed to the function.\n",
    "- Changes made to the parameter within the function do not affect the original value outside the function.\n",
    "- Primitive data types (int, float, char, etc.) are typically passed by value."
   ]
  },
  {
   "cell_type": "code",
   "execution_count": 30,
   "metadata": {},
   "outputs": [
    {
     "name": "stdout",
     "output_type": "stream",
     "text": [
      "Inside function: x = 6\n",
      "Outside function: num = 5\n",
      "\n",
      "\n"
     ]
    }
   ],
   "source": [
    "%%c \n",
    "\n",
    "#include <stdio.h>\n",
    "\n",
    "void increment(int x) {\n",
    "    x++; // Increment x (local copy)\n",
    "    printf(\"Inside function: x = %d\\n\", x);\n",
    "}\n",
    "\n",
    "int main() {\n",
    "    int num = 5;\n",
    "    increment(num); // Pass num by value\n",
    "    printf(\"Outside function: num = %d\\n\", num); // num remains unchanged\n",
    "    return 0;\n",
    "}"
   ]
  },
  {
   "cell_type": "markdown",
   "metadata": {},
   "source": [
    "2. Call-by-Reference:\n",
    "- In call-by-reference, a reference (or address) to the original argument is passed to the function.\n",
    "- Changes made to the parameter within the function affect the original value outside the function.\n",
    "- Pointers are often used to implement call-by-reference."
   ]
  },
  {
   "cell_type": "code",
   "execution_count": 31,
   "metadata": {},
   "outputs": [
    {
     "name": "stdout",
     "output_type": "stream",
     "text": [
      "Inside function: *x = 6\n",
      "Outside function: num = 6\n",
      "\n",
      "\n"
     ]
    }
   ],
   "source": [
    "%%c \n",
    "\n",
    "#include <stdio.h>\n",
    "\n",
    "void increment(int *x) {\n",
    "    (*x)++; // Increment the value pointed to by x\n",
    "    printf(\"Inside function: *x = %d\\n\", *x);\n",
    "}\n",
    "\n",
    "int main() {\n",
    "    int num = 5;\n",
    "    increment(&num); // Pass the address of num (call-by-reference)\n",
    "    printf(\"Outside function: num = %d\\n\", num); // num is incremented\n",
    "    return 0;\n",
    "}"
   ]
  },
  {
   "cell_type": "markdown",
   "metadata": {},
   "source": [
    "This should help bring some context to how and why pointers are essential in C: Without them we would have no way to pass variables between functions with persistent results."
   ]
  },
  {
   "cell_type": "markdown",
   "metadata": {},
   "source": [
    "[Back to top](#term-portfolio-project)"
   ]
  },
  {
   "cell_type": "markdown",
   "metadata": {},
   "source": [
    "### C libraries {-}"
   ]
  },
  {
   "cell_type": "markdown",
   "metadata": {},
   "source": [
    "This section will be updated with functions as they are used - the libraries are not limited to the listed functions. For more extensive examples I would recommend checking out chatGPT."
   ]
  },
  {
   "cell_type": "markdown",
   "metadata": {},
   "source": [
    "#### Input and output: `<stdio.h>` {-}"
   ]
  },
  {
   "cell_type": "markdown",
   "metadata": {},
   "source": [
    "- Standard Input/Output:\n",
    "  - `printf()`: Prints formatted output to the standard output stream (usually the console).\n",
    "  - `scanf()`: Reads formatted input from the standard input stream (usually the keyboard).\n",
    "- File Input/Output:\n",
    "  - `fopen()`, `fclose()`: Opens and closes files for reading and writing.\n",
    "  - `fread()`, `fwrite()`: Reads from and writes to files.\n",
    "  - `fprintf()`, `fscanf()`: Similar to `printf()` and `scanf()`, but work with file streams.\n",
    "  - `fputs`, `fgets`: Reads and writes from files to strings"
   ]
  },
  {
   "cell_type": "markdown",
   "metadata": {},
   "source": [
    "#### String manipulation: `<string.h>` {-}"
   ]
  },
  {
   "cell_type": "markdown",
   "metadata": {},
   "source": [
    "- String Copying:\n",
    "  - `strcpy()`: Copies a string.\n",
    "  - `strncpy()`: Copies a specified number of characters from one string to another.\n",
    "- String Concatenation:\n",
    "  - `strcat()`: Concatenates two strings.\n",
    "  - `strncat()`: Concatenates a specified number of characters from one string to another.\n",
    "- String Comparison:\n",
    "  - `strcmp()`: Compares two strings.\n",
    "  - `strncmp()`: Compares a specified number of characters from two strings.\n",
    "- String Length:\n",
    "  - `strlen()`: Returns the length of a string.\n",
    "- String Searching:\n",
    "  - `strchr()`: Finds the first occurrence of a character in a string.\n",
    "  - `strrchr()`: Finds the last occurrence of a character in a string.\n",
    "  - `strstr()`: Finds the first occurrence of a substring in a string.\n",
    "- String Tokenization:\n",
    "  - `strtok()`: Splits a string into tokens based on a delimiter.\n",
    "- String Modification:\n",
    "  - `strtok()` (for tokenization and modification).\n",
    "  - `strdup()`: Duplicates a string.\n",
    "  - `strchr()`, `strrchr()`, `strstr()` (for modification)."
   ]
  },
  {
   "cell_type": "markdown",
   "metadata": {},
   "source": [
    "[Back to top](#term-portfolio-project)"
   ]
  },
  {
   "cell_type": "markdown",
   "metadata": {},
   "source": [
    "____"
   ]
  },
  {
   "cell_type": "markdown",
   "metadata": {},
   "source": [
    "## Answers to Selected Questions {-}"
   ]
  },
  {
   "cell_type": "markdown",
   "metadata": {},
   "source": [
    "1. **Required**. Describe your continued learning experience in SENG 265. Make it a weekly habit to document your learning experience.\n",
    "   - The entire document serves as a 'weekly learning experience' notebook - The weeks during which specific materials were covered are included in the [table of contentes](#table-of-contents).\n",
    "2. What is the core functionality of Jupyter Notebooks?\n",
    "   - [About notebooks, magics](#about-notebooks-magics)\n",
    "3. Summarize simple Jupyter Notebook markdown including how to insert links and images?\n",
    "   - Headings: `$`, `$$`, ...\n",
    "   - Links/images: `[Name](link)`/`![Name](/path/to/image.jpg)`\n",
    "4. How can you typeset mathematical formulas including Greek letters using LaTeX Markdown in Jupyter Notebooks? LaTeX is used extensively used for documents with mathematical formulas.  \n",
    "   - Inline: `$x \\sim \\text{Binomial}(n, p)$` $\\rightarrow x \\sim \\text{Binomial}(n, p)$\n",
    "   - Display:\n",
    "   `$$ |x| = \\begin{cases} -x, \\quad x < 0 \\\\ x, \\quad x \\geq 0 \\end{cases} $$` $\\rightarrow$\n",
    "   $$\n",
    "   |x| = \\begin{cases}\n",
    "   -x, \\quad x < 0 \\\\\n",
    "   x, \\quad x \\geq 0\n",
    "   \\end{cases}\n",
    "   $$\n",
    "5. How prevalent is Unix or Linux in software development today?\n",
    "   - In short, Unix/Linux is like the C of operating systems: We wouldn't have the more popular options without it as it's their foundation. It's used extensively for servers and non-pc devices, albeit has quite a few users (myself included) who prefer it's functionality over less transparent OS's such as MacOS and Microsoft.\n",
    "6.  What are the most popular programming languages and why?\n",
    "   - Python comes first since it is by far the easiest language to write. Others include Java, JS/CSS and HTML, C and C++.\n",
    "   - C is popular because it's about the closest you can get to writing assembly without having to write assembly - if you want a fast program that does exactly what you tell it to, C and C++ are the way to go. They also have extensive libraries which (once you know what they are) make writing code fairly easy\n",
    "   - Java is popular because of it's portability, but as of late I don't see ths being a standout feature of java over any other programming language. It is also my least favorite to write.\n",
    "7.  Describe the fundamental differences between C and Python.\n",
    "   - The main difference is that C is a low-level language (pretty much a step up from assembly) and Python is pretty much the highest-level language.\n",
    "8.  How challenging were learning C and completing Assignment 1 for you?\n",
    "   - It was initially very challenging but once I figured out pointers and got into a 'groove' with chatGPT I found it easier to use than Java, granted I was not using the stack or dynamic memory.\n",
    "9.  **Required**: What are your personal insights, aha moments, and epiphanies you experienced in the first part of the SENG 265 course?\n",
    "   - The most significant insight I've had so far is how important it is to know how to *really* know bash. After I had written a couple simple scripts to automate lab server tasks I had a moment of awe at how powerful it could be - you can automate absolutely anything that a computer could do as long as you can figure out how to do it.\n",
    "   - This is less of an epiphany, but still significant: After learning a bit of C for the first assignment, other languages are starting to make more sense, especially when it comes to pointers/pass-by-value/ref.\n",
    "10. **Required**: How did you experience chatGPT as a learning tool?\n",
    "   - [Introduction: Jupyter Magics](#introduction-jupyter-magics-creating-a-table-of-contents)\n",
    "   - [A note on call-by-reference and call-by-value](#a-note-on-call-by-reference-and-call-by-value)\n",
    "   - I've found chatGPT is extremely helpful for small, explicitly defined tasks. For example:\n",
    "     - I had it write me a minimal .config file for conky, a system manager\n",
    "     - I frequently have it write examples of code using specific functions to see how they're used in context\n",
    "     - It usually gives a better response than google in far less time"
   ]
  },
  {
   "cell_type": "markdown",
   "metadata": {},
   "source": [
    "[Back to top](#term-portfolio-project)"
   ]
  },
  {
   "cell_type": "markdown",
   "metadata": {},
   "source": [
    "____"
   ]
  },
  {
   "cell_type": "markdown",
   "metadata": {},
   "source": [
    "## Citations and References {-}"
   ]
  },
  {
   "cell_type": "markdown",
   "metadata": {},
   "source": [
    "1. Custom commands for linux terminal, GeeksforGeeks (2018) https://www.geeksforgeeks.org/custom-commands-linux-terminal/\n",
    "2. Where/how should I store scripts? Unix & Linux Stack Exchange (n.d.) https://unix.stackexchange.com/questions/604818/where-how-should-i-store-scripts\n",
    "3. --help vs man command, Unix & Linux Stack Exchange (n.d.)https://unix.stackexchange.com/questions/86571/command-help-vs-man-command\n"
   ]
  }
 ],
 "metadata": {
  "kernelspec": {
   "display_name": "env",
   "language": "python",
   "name": "python3"
  },
  "language_info": {
   "codemirror_mode": {
    "name": "ipython",
    "version": 3
   },
   "file_extension": ".py",
   "mimetype": "text/x-python",
   "name": "python",
   "nbconvert_exporter": "python",
   "pygments_lexer": "ipython3",
   "version": "3.11.8"
  }
 },
 "nbformat": 4,
 "nbformat_minor": 2
}

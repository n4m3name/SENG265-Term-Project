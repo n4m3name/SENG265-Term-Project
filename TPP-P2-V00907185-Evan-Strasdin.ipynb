{
 "cells": [
  {
   "cell_type": "markdown",
   "metadata": {},
   "source": [
    "# Term Portfolio Project {-}"
   ]
  },
  {
   "cell_type": "markdown",
   "metadata": {},
   "source": [
    "Evan Strasdin  \n",
    "University of Victoria  \n",
    "SENG-265, Winter 2023-24  \n"
   ]
  },
  {
   "cell_type": "markdown",
   "metadata": {},
   "source": [
    "____"
   ]
  },
  {
   "cell_type": "markdown",
   "metadata": {},
   "source": [
    "## Table of Contents {-}\n",
    "1. [Introduction: Jupyter Magics, Creating a Table of Contents](#introduction-jupyter-magics-creating-a-table-of-contents) (Week 1)\n",
    "   - [About notebooks, magics](#about-notebooks-magics)\n",
    "   - [Creating a custom magic](#creating-a-custom-magic)\n",
    "   - [Creating a table of contents](#creating-a-table-of-contents)\n",
    "2. [Bash](#bash) (Weeks 2-4)\n",
    "   - [`man` and '--help`](#the-most-useful-command-line-tools-man-and---help)\n",
    "   - [Shell scripting](#shell-scripting)\n",
    "   - [Aliases](#aliases)\n",
    "3. [C](#c) (Weeks 3-5)\n",
    "   - [C and bash](#c-and-bash)\n",
    "   - [Pointers](#pointers)\n",
    "   - [C libraries](#c-libraries)\n",
    "4. [Python](#python) (Week 6 onwards)\n",
    "   - [Python and Bash](#python-and-bash)\n",
    "   - [Type Annotations and Docstrings](#python-type-annotations-and-docstrings)\n",
    "   - [Some Important Libraries](#some-important-libraries)\n",
    "5. [Answers to Selected Questions](#answers-to-selected-questions)\n",
    "6. [Citations and References](#citations-and-references)"
   ]
  },
  {
   "cell_type": "markdown",
   "metadata": {},
   "source": [
    "____"
   ]
  },
  {
   "cell_type": "markdown",
   "metadata": {},
   "source": [
    "## Introduction: Jupyter Magics, Creating a Table of Contents {-}"
   ]
  },
  {
   "cell_type": "markdown",
   "metadata": {},
   "source": [
    "### About notebooks, magics {-}"
   ]
  },
  {
   "cell_type": "markdown",
   "metadata": {},
   "source": [
    "I've included the section on magics and markdown tables of contents since, if you're like me, you love the idea of a single file which can be navigated like a wiki, can support both markdown and usable code in just about any language and can be exported directly to html for publishing online.\n",
    "\n",
    "Magics are special commands that provide additional functionality within Jupyter notebooks. If you can't figure out how to do something specific with your notebook, there's a good chance you can do it with a magic.\n",
    "\n",
    "I have a good amount of experience using Jupyter notebooks but little experience using magics (or python scripts for that matter), so I've decided to see if the all-knowing chatGPT could help me out. My goal for now is to add support for C and Python cells in the same notebook, and to create a working table of contents to make this file navigable."
   ]
  },
  {
   "cell_type": "markdown",
   "metadata": {},
   "source": [
    "### Creating a custom magic {-}"
   ]
  },
  {
   "cell_type": "markdown",
   "metadata": {},
   "source": [
    "#### 1. Create a Python module for your magic command {-}"
   ]
  },
  {
   "cell_type": "markdown",
   "metadata": {},
   "source": [
    "This chatGPT code defines the behavior of the custom magic:"
   ]
  },
  {
   "cell_type": "code",
   "execution_count": 6,
   "metadata": {},
   "outputs": [],
   "source": [
    "# Module contents for C language support\n",
    "\n",
    "from IPython.core.magic import Magics, magics_class, cell_magic\n",
    "from IPython import get_ipython\n",
    "import subprocess\n",
    "\n",
    "@magics_class\n",
    "class CMagic(Magics):\n",
    "    @cell_magic\n",
    "    def c(self, line, cell):\n",
    "        # Save the C code to a temporary file\n",
    "        with open('temp.c', 'w') as f:\n",
    "            f.write(cell)\n",
    "\n",
    "        # Compile the C code\n",
    "        compile_command = f'gcc -o temp_executable temp.c'\n",
    "        compile_result = subprocess.run(compile_command, shell=True, stdout=subprocess.PIPE, stderr=subprocess.PIPE, text=True)\n",
    "\n",
    "        if compile_result.returncode == 0:\n",
    "            # If compilation is successful, execute the compiled code\n",
    "            execute_command = './temp_executable'\n",
    "            execute_result = subprocess.run(execute_command, shell=True, stdout=subprocess.PIPE, stderr=subprocess.PIPE, text=True)\n",
    "            print(execute_result.stdout)\n",
    "            print(execute_result.stderr)\n",
    "        else:\n",
    "            # If compilation fails, print the error message\n",
    "            print(compile_result.stderr)\n",
    "\n",
    "# Register the magic command\n",
    "ip = get_ipython()\n",
    "ip.register_magics(CMagic)\n"
   ]
  },
  {
   "cell_type": "markdown",
   "metadata": {},
   "source": [
    "In order to make this code usable (a module) it must be in a .py file. To save some time we can run the cell below, which creates this file for us:"
   ]
  },
  {
   "cell_type": "code",
   "execution_count": 7,
   "metadata": {},
   "outputs": [],
   "source": [
    "# Define the code to be included in either module as multiline strings,\n",
    "# copy-pasted from above\n",
    "\n",
    "module_code_c = \"\"\"\n",
    "from IPython.core.magic import Magics, magics_class, cell_magic\n",
    "from IPython import get_ipython\n",
    "import subprocess\n",
    "\n",
    "@magics_class\n",
    "class CMagic(Magics):\n",
    "    @cell_magic\n",
    "    def c(self, line, cell):\n",
    "        # Save the C code to a temporary file\n",
    "        with open('temp.c', 'w') as f:\n",
    "            f.write(cell)\n",
    "\n",
    "        # Compile the C code\n",
    "        compile_command = f'gcc -o temp_executable temp.c'\n",
    "        compile_result = subprocess.run(compile_command, shell=True, stdout=subprocess.PIPE, stderr=subprocess.PIPE, text=True)\n",
    "\n",
    "        if compile_result.returncode == 0:\n",
    "            # If compilation is successful, execute the compiled code\n",
    "            execute_command = './temp_executable'\n",
    "            execute_result = subprocess.run(execute_command, shell=True, stdout=subprocess.PIPE, stderr=subprocess.PIPE, text=True)\n",
    "            print(execute_result.stdout)\n",
    "            print(execute_result.stderr)\n",
    "        else:\n",
    "            # If compilation fails, print the error message\n",
    "            print(compile_result.stderr)\n",
    "\n",
    "# Register the magic command\n",
    "ip = get_ipython()\n",
    "ip.register_magics(CMagic)\n",
    "\"\"\"\n",
    "\n",
    "# Write the strings to file\n",
    "with open('c_magic.py', 'w') as f2:\n",
    "    f2.write(module_code_c)"
   ]
  },
  {
   "cell_type": "markdown",
   "metadata": {},
   "source": [
    "Our python module is complete!"
   ]
  },
  {
   "cell_type": "markdown",
   "metadata": {},
   "source": [
    "#### 2. Load and use the magic command {-}"
   ]
  },
  {
   "cell_type": "code",
   "execution_count": 8,
   "metadata": {},
   "outputs": [],
   "source": [
    "# Commands to initialize %%c\n",
    "%load_ext autoreload\n",
    "%autoreload 2\n",
    "%run c_magic.py"
   ]
  },
  {
   "cell_type": "code",
   "execution_count": 9,
   "metadata": {},
   "outputs": [
    {
     "name": "stdout",
     "output_type": "stream",
     "text": [
      "Hello, C programming in Jupyter!\n",
      "\n"
     ]
    }
   ],
   "source": [
    "%%c\n",
    "#include <stdio.h>\n",
    "\n",
    "int main() {\n",
    "    printf(\"Hello, C programming in Jupyter!\");\n",
    "    return 0;\n",
    "}"
   ]
  },
  {
   "cell_type": "markdown",
   "metadata": {},
   "source": [
    "[Back to top](#term-portfolio-project)"
   ]
  },
  {
   "cell_type": "markdown",
   "metadata": {},
   "source": [
    "### Creating a table of contents {-}"
   ]
  },
  {
   "cell_type": "markdown",
   "metadata": {},
   "source": [
    "I used chatGPT to get a basic idea of how a table of contents works in markdown (and thus Jupyter). Here's the output:"
   ]
  },
  {
   "cell_type": "markdown",
   "metadata": {},
   "source": [
    "     Table of Contents\n",
    "    \n",
    "    - [Link to Section 1](#section-1)\n",
    "    - [Link to Section 2](#section-2)\n",
    "    \n",
    "    ---\n",
    "    \n",
    "    <a id=\"section-1\"></a>\n",
    "    ## Section 1\n",
    "    \n",
    "    This is the content of Section 1.\n",
    "    \n",
    "    ---\n",
    "    \n",
    "    <a id=\"section-2\"></a>\n",
    "    ## Section 2\n",
    "    \n",
    "    This is the content of Section 2."
   ]
  },
  {
   "cell_type": "markdown",
   "metadata": {},
   "source": [
    "Note that the `<a id=\"section-1\"></a>` HTML anchors aren't always necessary, since many markdown editors (and editing tools, such as [markdown all in one](https://marketplace.visualstudio.com/items?itemName=yzhang.markdown-all-in-one)) write anchors automatically based on headings.\n",
    "\n",
    "Another fun fact about anchors is that we can use them for internal linking, for example the markdown text `[Some text](#section-1)` would create a link to the header `## Section 1` in the above document, regardless of where it's located in the document.\n",
    "\n",
    "I'm sure you've seen it already, but here's the [finished product](#table-of-contents)"
   ]
  },
  {
   "cell_type": "markdown",
   "metadata": {},
   "source": [
    "[Back to top](#term-portfolio-project)"
   ]
  },
  {
   "cell_type": "markdown",
   "metadata": {},
   "source": [
    "____"
   ]
  },
  {
   "cell_type": "markdown",
   "metadata": {},
   "source": [
    "## Bash {-}"
   ]
  },
  {
   "cell_type": "markdown",
   "metadata": {},
   "source": [
    "### The most useful command line tools: `man` and `--help` {-}"
   ]
  },
  {
   "cell_type": "markdown",
   "metadata": {},
   "source": [
    "While `man` (short for manual) and `--help` can't teach you commands, they can be extremely helpful for learning how to use them. For example, let's say we were wondering about the functionality of the `mkdir` command:"
   ]
  },
  {
   "cell_type": "code",
   "execution_count": 10,
   "metadata": {},
   "outputs": [
    {
     "name": "stdout",
     "output_type": "stream",
     "text": [
      "\n",
      "MKDIR(1)                         User Commands                        MKDIR(1)\n",
      "\n",
      "NAME\n",
      "       mkdir - make directories\n",
      "\n",
      "SYNOPSIS\n",
      "       mkdir [OPTION]... DIRECTORY...\n",
      "\n",
      "DESCRIPTION\n",
      "       Create the DIRECTORY(ies), if they do not already exist.\n",
      "\n",
      "       Mandatory  arguments  to  long  options are mandatory for short options\n",
      "       too.\n",
      "\n",
      "       -m, --mode=MODE\n",
      "              set file mode (as in chmod), not a=rwx - umask\n",
      "\n",
      "       -p, --parents\n",
      "              no error if existing, make parent directories  as  needed,  with\n",
      "              their file modes unaffected by any -m option.\n",
      "\n",
      "       -v, --verbose\n",
      "              print a message for each created directory\n",
      "\n",
      "       -Z     set  SELinux  security  context of each created directory to the\n",
      "              default type\n",
      "\n",
      "       --context[=CTX]\n",
      "              like -Z, or if CTX is specified then set the  SELinux  or  SMACK\n",
      "              security context to CTX\n",
      "\n",
      "       --help display this help and exit\n",
      "\n",
      "       --version\n",
      "              output version information and exit\n",
      "\n",
      "AUTHOR\n",
      "       Written by David MacKenzie.\n",
      "\n",
      "REPORTING BUGS\n",
      "       GNU coreutils online help: <https://www.gnu.org/software/coreutils/>\n",
      "       Report any translation bugs to <https://translationproject.org/team/>\n",
      "\n",
      "COPYRIGHT\n",
      "       Copyright  ©  2023  Free Software Foundation, Inc.  License GPLv3+: GNU\n",
      "       GPL version 3 or later <https://gnu.org/licenses/gpl.html>.\n",
      "       This is free software: you are free  to  change  and  redistribute  it.\n",
      "       There is NO WARRANTY, to the extent permitted by law.\n",
      "\n",
      "SEE ALSO\n",
      "       mkdir(2)\n",
      "\n",
      "       Full documentation <https://www.gnu.org/software/coreutils/mkdir>\n",
      "       or available locally via: info '(coreutils) mkdir invocation'\n",
      "\n",
      "GNU coreutils 9.4                January 2024                         MKDIR(1)\n"
     ]
    }
   ],
   "source": [
    "%%bash\n",
    "man mkdir"
   ]
  },
  {
   "cell_type": "code",
   "execution_count": 11,
   "metadata": {},
   "outputs": [
    {
     "name": "stdout",
     "output_type": "stream",
     "text": [
      "Usage: mkdir [OPTION]... DIRECTORY...\n",
      "Create the DIRECTORY(ies), if they do not already exist.\n",
      "\n",
      "Mandatory arguments to long options are mandatory for short options too.\n",
      "  -m, --mode=MODE   set file mode (as in chmod), not a=rwx - umask\n",
      "  -p, --parents     no error if existing, make parent directories as needed,\n",
      "                    with their file modes unaffected by any -m option.\n",
      "  -v, --verbose     print a message for each created directory\n",
      "  -Z                   set SELinux security context of each created directory\n",
      "                         to the default type\n",
      "      --context[=CTX]  like -Z, or if CTX is specified then set the SELinux\n",
      "                         or SMACK security context to CTX\n",
      "      --help        display this help and exit\n",
      "      --version     output version information and exit\n",
      "\n",
      "GNU coreutils online help: <https://www.gnu.org/software/coreutils/>\n",
      "Full documentation <https://www.gnu.org/software/coreutils/mkdir>\n",
      "or available locally via: info '(coreutils) mkdir invocation'\n"
     ]
    }
   ],
   "source": [
    "%%bash\n",
    "mkdir --help"
   ]
  },
  {
   "cell_type": "markdown",
   "metadata": {},
   "source": [
    "Note that the output [differs slightly](https://unix.stackexchange.com/questions/86571/command-help-vs-man-command) - this is because `man` reads directly from the bash manual, while help is a built-in command. This means that all commands should have a manual, and some commands will not have a common `--help` flag available ."
   ]
  },
  {
   "cell_type": "markdown",
   "metadata": {},
   "source": [
    "[Back to top](#term-portfolio-project)"
   ]
  },
  {
   "cell_type": "markdown",
   "metadata": {},
   "source": [
    "### Shell scripting {-}"
   ]
  },
  {
   "cell_type": "markdown",
   "metadata": {},
   "source": [
    "In the same way that [magics](#about-notebooks-magics) can make notebooks more useful, shell scripting allows you to do pretty much anything you can imagine from your command line (as long a you can write the code). In the following example we'll create a simple shell script which allows us to connect to a server using a one-word command."
   ]
  },
  {
   "cell_type": "markdown",
   "metadata": {},
   "source": [
    "#### 1. Creating the file {-}"
   ]
  },
  {
   "cell_type": "markdown",
   "metadata": {},
   "source": [
    "First we need to figure out where we want to keep our file. According to [some guy online](https://unix.stackexchange.com/questions/604818/where-how-should-i-store-scripts), if we want our script to only be accessible by a single user we should store them in `~/bin` or `~/.local/bin`, otherwise we store them in `/usr/local/bin`. Navigate appropriately using the `cd` command:"
   ]
  },
  {
   "cell_type": "markdown",
   "metadata": {},
   "source": [
    "    $ cd ~/bin"
   ]
  },
  {
   "cell_type": "markdown",
   "metadata": {},
   "source": [
    "#### 2. Writing the script {-}"
   ]
  },
  {
   "cell_type": "markdown",
   "metadata": {},
   "source": [
    "To connect to a server in linux, we use the `ssh` command. Here's an example:"
   ]
  },
  {
   "cell_type": "markdown",
   "metadata": {},
   "source": [
    "    $ ssh username@remote_host"
   ]
  },
  {
   "cell_type": "markdown",
   "metadata": {},
   "source": [
    "Note that this code is generic, and the username/host (etc) will differ depending on the server you're trying to connect to. Let's put this command into a new .sh file using `nano`, making sure to include the shebang `#!/bin/bash` which marks the file as executable:"
   ]
  },
  {
   "cell_type": "markdown",
   "metadata": {},
   "source": [
    "    $ nano server"
   ]
  },
  {
   "cell_type": "markdown",
   "metadata": {},
   "source": [
    "The file contents should look like this:"
   ]
  },
  {
   "cell_type": "markdown",
   "metadata": {},
   "source": [
    "    #!/bin/bash\n",
    "    \n",
    "    ssh username@remote_host"
   ]
  },
  {
   "cell_type": "markdown",
   "metadata": {},
   "source": [
    "#### 3. Making it executable {-}"
   ]
  },
  {
   "cell_type": "markdown",
   "metadata": {},
   "source": [
    "We use the `chmod` command as follows (the 'a' allows all users to access the script, the +x makes it executable):"
   ]
  },
  {
   "cell_type": "markdown",
   "metadata": {},
   "source": [
    "    $ chmod a+x server"
   ]
  },
  {
   "cell_type": "markdown",
   "metadata": {},
   "source": [
    "Now when we type `./path/to/file/server` in bash, our file will execute, connecting us to the desired server. Not only that, now we know how to make short commands that do anything we want. Sweet!"
   ]
  },
  {
   "cell_type": "markdown",
   "metadata": {},
   "source": [
    "#### 4. (Optional, extremely useful) Making it available globally {-}"
   ]
  },
  {
   "cell_type": "markdown",
   "metadata": {},
   "source": [
    "In order for the command to be able to be executed from any directory, we have to export the location of the scripts to our PATH, if it's not already. We use the following command to check:"
   ]
  },
  {
   "cell_type": "markdown",
   "metadata": {},
   "source": [
    "    $ echo $PATH"
   ]
  },
  {
   "cell_type": "markdown",
   "metadata": {},
   "source": [
    "This should output a series of directories delimited by \":\". If you don't see \"/home/usr/bin\", we need to add this to our path permanently by making sure it's in our path each time we open a terminal. Otherwise skip this step. We `echo` the following line into our `.bashrc`, the initialization file for bash:"
   ]
  },
  {
   "cell_type": "markdown",
   "metadata": {},
   "source": [
    "    $ echo \"export PATH=$PATH:/home/usr/bin\" >> ~/.bashrc"
   ]
  },
  {
   "cell_type": "markdown",
   "metadata": {},
   "source": [
    "As a last step, we reload `.bashrc` to update the contents using the following command:"
   ]
  },
  {
   "cell_type": "markdown",
   "metadata": {},
   "source": [
    "    $ source ~/.bashrc"
   ]
  },
  {
   "cell_type": "markdown",
   "metadata": {},
   "source": [
    "Now when you run the command `server`, you should be automatically connected to the server of your choice."
   ]
  },
  {
   "cell_type": "markdown",
   "metadata": {},
   "source": [
    "### Aliases {-}"
   ]
  },
  {
   "cell_type": "markdown",
   "metadata": {},
   "source": [
    "The above example was overkill for the sake of instruction. Generally we should leave scripting to running actual programs and use aliases to shorten commands. The folowing one-liner is a concise way to shorten a command:"
   ]
  },
  {
   "cell_type": "markdown",
   "metadata": {},
   "source": [
    "`$ echo \"alias myalias='command_to_run'\" >> ~/.bashrc`"
   ]
  },
  {
   "cell_type": "markdown",
   "metadata": {},
   "source": [
    "We can also use bash functions to get the command to take arguments, but in my opinion this should be left to scripts to avoid having an overcrowded ~/.bashrc file."
   ]
  },
  {
   "cell_type": "markdown",
   "metadata": {},
   "source": [
    "[Back to top](#term-portfolio-project)"
   ]
  },
  {
   "cell_type": "markdown",
   "metadata": {},
   "source": [
    "____"
   ]
  },
  {
   "cell_type": "markdown",
   "metadata": {},
   "source": [
    "## C {-}"
   ]
  },
  {
   "cell_type": "markdown",
   "metadata": {},
   "source": [
    "### C and bash {-}"
   ]
  },
  {
   "cell_type": "markdown",
   "metadata": {},
   "source": [
    "We use gcc ([gnu C compiler](https://gcc.gnu.org/)) to compile and render executabe C files in bash. Here's a basic example:"
   ]
  },
  {
   "cell_type": "markdown",
   "metadata": {},
   "source": [
    "`$ gcc helloworld.c -std=c99 -o helloworld`"
   ]
  },
  {
   "cell_type": "markdown",
   "metadata": {},
   "source": [
    "This compiles the c file 'helloworld.c' using C99 (a version of C from 1999), outputting ('-o') an executable named 'helloworld', which we run using the command `./helloworld`."
   ]
  },
  {
   "cell_type": "markdown",
   "metadata": {},
   "source": [
    "### Pointers {-}"
   ]
  },
  {
   "cell_type": "markdown",
   "metadata": {},
   "source": [
    "The distinguishing feature of C is it's direct access to hardware and data stored in memory. The first occurrence of this I ran into was the use of pointers, which are simple but strange without context. Here's some examples which are fairly close to those found in the course's lecture notes:"
   ]
  },
  {
   "cell_type": "code",
   "execution_count": 29,
   "metadata": {},
   "outputs": [
    {
     "name": "stdout",
     "output_type": "stream",
     "text": [
      "n = 10\n",
      "p = (nil)\n",
      "p = address of n = 0x7ffca04c5aa4\n",
      "p dereferenced = 10\n",
      "p2 dereferenced = 10\n",
      "n = 8\n",
      "n = 6\n",
      "\n",
      "\n"
     ]
    }
   ],
   "source": [
    "%%c\n",
    "\n",
    "#include<stdio.h>\n",
    "#include<stdlib.h>\n",
    "\n",
    "int main(void){\n",
    "    int n = 10; //integer w value '10'\n",
    "    printf(\"n = %d\\n\", n);\n",
    "    int* p = NULL; //int pointer, points to NULL\n",
    "    printf(\"p = %p\\n\", p);\n",
    "\n",
    "    p = &n; // now p contains address of n\n",
    "    printf(\"p = address of n = %p\\n\", p);\\\n",
    "\n",
    "    // Dereferencing p (*p) allows us to indirectly \n",
    "    // access the data stored at whatever address is held\n",
    "    // by p:\n",
    "    printf(\"p dereferenced = %d\\n\", *p);\n",
    "\n",
    "    int** p2 = &p; // Points to p's address\n",
    "    // Dereferencing pp (**p) allows us to indirectly \n",
    "    // access the data stored at whatever address is held\n",
    "    // by p:\n",
    "    printf(\"p2 dereferenced = %d\\n\", **p2);\n",
    "\n",
    "    *p = 8; //changes value at address of n\n",
    "    printf(\"n = %d\\n\", n);\n",
    "\n",
    "    **p2 = 6; //changes value at address of n\n",
    "    printf(\"n = %d\\n\", n);\n",
    "\n",
    "}"
   ]
  },
  {
   "cell_type": "markdown",
   "metadata": {},
   "source": [
    "Note that pointer types should match the type contained at the address they point to, and that we cam't access certain areas of memory (for example, we cannot dereference a `NULL` pointer). Pointer issues will generally result in runtime errors called segmentation faults."
   ]
  },
  {
   "cell_type": "markdown",
   "metadata": {},
   "source": [
    "#### A note on call-by-reference and call-by-value {-}"
   ]
  },
  {
   "cell_type": "markdown",
   "metadata": {},
   "source": [
    "These are mostly self-explanatory methods for passing values to functions (in any programming language, not limited to C). chatGPT supplied the following definitions and examples:"
   ]
  },
  {
   "cell_type": "markdown",
   "metadata": {},
   "source": [
    "1. Call-by-Value:\n",
    "- In call-by-value, a copy of the argument's value is passed to the function.\n",
    "- Changes made to the parameter within the function do not affect the original value outside the function.\n",
    "- Primitive data types (int, float, char, etc.) are typically passed by value."
   ]
  },
  {
   "cell_type": "code",
   "execution_count": 30,
   "metadata": {},
   "outputs": [
    {
     "name": "stdout",
     "output_type": "stream",
     "text": [
      "Inside function: x = 6\n",
      "Outside function: num = 5\n",
      "\n",
      "\n"
     ]
    }
   ],
   "source": [
    "%%c \n",
    "\n",
    "#include <stdio.h>\n",
    "\n",
    "void increment(int x) {\n",
    "    x++; // Increment x (local copy)\n",
    "    printf(\"Inside function: x = %d\\n\", x);\n",
    "}\n",
    "\n",
    "int main() {\n",
    "    int num = 5;\n",
    "    increment(num); // Pass num by value\n",
    "    printf(\"Outside function: num = %d\\n\", num); // num remains unchanged\n",
    "    return 0;\n",
    "}"
   ]
  },
  {
   "cell_type": "markdown",
   "metadata": {},
   "source": [
    "2. Call-by-Reference:\n",
    "- In call-by-reference, a reference (or address) to the original argument is passed to the function.\n",
    "- Changes made to the parameter within the function affect the original value outside the function.\n",
    "- Pointers are often used to implement call-by-reference."
   ]
  },
  {
   "cell_type": "code",
   "execution_count": 31,
   "metadata": {},
   "outputs": [
    {
     "name": "stdout",
     "output_type": "stream",
     "text": [
      "Inside function: *x = 6\n",
      "Outside function: num = 6\n",
      "\n",
      "\n"
     ]
    }
   ],
   "source": [
    "%%c \n",
    "\n",
    "#include <stdio.h>\n",
    "\n",
    "void increment(int *x) {\n",
    "    (*x)++; // Increment the value pointed to by x\n",
    "    printf(\"Inside function: *x = %d\\n\", *x);\n",
    "}\n",
    "\n",
    "int main() {\n",
    "    int num = 5;\n",
    "    increment(&num); // Pass the address of num (call-by-reference)\n",
    "    printf(\"Outside function: num = %d\\n\", num); // num is incremented\n",
    "    return 0;\n",
    "}"
   ]
  },
  {
   "cell_type": "markdown",
   "metadata": {},
   "source": [
    "This should help bring some context to how and why pointers are essential in C: Without them we would have no way to pass variables between functions with persistent results."
   ]
  },
  {
   "cell_type": "markdown",
   "metadata": {},
   "source": [
    "[Back to top](#term-portfolio-project)"
   ]
  },
  {
   "cell_type": "markdown",
   "metadata": {},
   "source": [
    "### C libraries {-}"
   ]
  },
  {
   "cell_type": "markdown",
   "metadata": {},
   "source": [
    "This section will be updated with functions as they are used - the libraries are not limited to the listed functions. For more extensive examples I would recommend checking out chatGPT."
   ]
  },
  {
   "cell_type": "markdown",
   "metadata": {},
   "source": [
    "#### Input and output: `<stdio.h>` {-}"
   ]
  },
  {
   "cell_type": "markdown",
   "metadata": {},
   "source": [
    "- Standard Input/Output:\n",
    "  - `printf()`: Prints formatted output to the standard output stream (usually the console).\n",
    "  - `scanf()`: Reads formatted input from the standard input stream (usually the keyboard).\n",
    "- File Input/Output:\n",
    "  - `fopen()`, `fclose()`: Opens and closes files for reading and writing.\n",
    "  - `fread()`, `fwrite()`: Reads from and writes to files.\n",
    "  - `fprintf()`, `fscanf()`: Similar to `printf()` and `scanf()`, but work with file streams.\n",
    "  - `fputs`, `fgets`: Reads and writes from files to strings"
   ]
  },
  {
   "cell_type": "markdown",
   "metadata": {},
   "source": [
    "#### String manipulation: `<string.h>` {-}"
   ]
  },
  {
   "cell_type": "markdown",
   "metadata": {},
   "source": [
    "- String Copying:\n",
    "  - `strcpy()`: Copies a string.\n",
    "  - `strncpy()`: Copies a specified number of characters from one string to another.\n",
    "- String Concatenation:\n",
    "  - `strcat()`: Concatenates two strings.\n",
    "  - `strncat()`: Concatenates a specified number of characters from one string to another.\n",
    "- String Comparison:\n",
    "  - `strcmp()`: Compares two strings.\n",
    "  - `strncmp()`: Compares a specified number of characters from two strings.\n",
    "- String Length:\n",
    "  - `strlen()`: Returns the length of a string.\n",
    "- String Searching:\n",
    "  - `strchr()`: Finds the first occurrence of a character in a string.\n",
    "  - `strrchr()`: Finds the last occurrence of a character in a string.\n",
    "  - `strstr()`: Finds the first occurrence of a substring in a string.\n",
    "- String Tokenization:\n",
    "  - `strtok()`: Splits a string into tokens based on a delimiter.\n",
    "- String Modification:\n",
    "  - `strtok()` (for tokenization and modification).\n",
    "  - `strdup()`: Duplicates a string.\n",
    "  - `strchr()`, `strrchr()`, `strstr()` (for modification)."
   ]
  },
  {
   "cell_type": "markdown",
   "metadata": {},
   "source": [
    "[Back to top](#term-portfolio-project)"
   ]
  },
  {
   "cell_type": "markdown",
   "metadata": {},
   "source": [
    "____"
   ]
  },
  {
   "cell_type": "markdown",
   "metadata": {},
   "source": [
    "## Python {-}"
   ]
  },
  {
   "cell_type": "markdown",
   "metadata": {},
   "source": [
    "### Python and Bash {-}"
   ]
  },
  {
   "cell_type": "code",
   "execution_count": null,
   "metadata": {},
   "outputs": [
    {
     "name": "stdout",
     "output_type": "stream",
     "text": [
      "This code is being executed directly.\n"
     ]
    }
   ],
   "source": [
    "#!/usr/bin/env python\n",
    "\n",
    "def body():\n",
    "    # These functions contain the main body of the program logic\n",
    "    return\n",
    "\n",
    "if __name__ == \"__main__\":\n",
    "    # This code will only run if the script is executed directly\n",
    "    print(\"This code is being executed directly.\")\n",
    "    # You can call any functions or execute any code you want to run\n",
    "    # when the script is executed directly here.\n",
    "    body()  # Example: Call the body function"
   ]
  },
  {
   "cell_type": "markdown",
   "metadata": {},
   "source": [
    "This organization results in a program that can be either run on its own (i.e. as the start of a script or as a tester for the file contents, calling all other parts of the program from the `if __name__ == \"__main__\"`` section) or as a module containing functions that can be imported and called by other files for reuse and code organization. For objects, we follow a similar layout:"
   ]
  },
  {
   "cell_type": "code",
   "execution_count": null,
   "metadata": {},
   "outputs": [],
   "source": [
    "#!/usr/bin/env python\n",
    "\n",
    "class MyClass:\n",
    "    # This class defines the core functionality of the program.\n",
    "\n",
    "    def __init__(self):\n",
    "        # Initialize any attributes or set up any necessary state here\n",
    "        pass\n",
    "\n",
    "    def method(self):\n",
    "        # Define methods to perform specific tasks or actions here\n",
    "        pass\n",
    "\n",
    "\n",
    "if __name__ == \"__main__\":\n",
    "    # This code will only run if the script is executed directly\n",
    "    print(\"This code is being executed directly.\")\n",
    "    # You can create instances of MyClass and call its methods here\n",
    "    obj = MyClass()\n",
    "    obj.method()  # Example: Call the method of MyClass\n"
   ]
  },
  {
   "cell_type": "markdown",
   "metadata": {},
   "source": [
    "With all files setup as such, we can then run each file directly, executing the code contained in the `__main__` segment by running `$ chmod +x filename.py` to render the file executable and then running `./filename.py`"
   ]
  },
  {
   "cell_type": "markdown",
   "metadata": {},
   "source": [
    "#### Extra: A note on script execution {-}"
   ]
  },
  {
   "cell_type": "markdown",
   "metadata": {},
   "source": [
    "When writing a script (in which a main file calls others from it's `__main__` portion), we only need to render the main file executable. We can also avoid the need for the shebang `#!/usr/bin/env python` by using the python interpreter (activated by running `python`) and calling the script directly - it's generally good practice to include the shebang!"
   ]
  },
  {
   "cell_type": "markdown",
   "metadata": {},
   "source": [
    "[Back to top](#term-portfolio-project)"
   ]
  },
  {
   "cell_type": "markdown",
   "metadata": {},
   "source": [
    "### Python type annotations and docstrings {-}"
   ]
  },
  {
   "cell_type": "markdown",
   "metadata": {},
   "source": [
    "A huge benefit of Python is it's emphasis on readability. Typing, type hints and docstrings are features included in Python which allow dev's to add annotations to their code that specify expected types of variables, parameters, return values and more. They're especially useful when working with large programs."
   ]
  },
  {
   "cell_type": "markdown",
   "metadata": {},
   "source": [
    "Consider the following code:"
   ]
  },
  {
   "cell_type": "code",
   "execution_count": null,
   "metadata": {},
   "outputs": [],
   "source": [
    "name = \"Alice\"\n",
    "age = 30\n",
    "\n",
    "def greet(name: str):\n",
    "    return f\"Hello, {name}!\"\n",
    "\n",
    "print(greet(name))"
   ]
  },
  {
   "cell_type": "markdown",
   "metadata": {},
   "source": [
    "Here's the same code written using annotations and docstrings:"
   ]
  },
  {
   "cell_type": "code",
   "execution_count": null,
   "metadata": {},
   "outputs": [
    {
     "name": "stdout",
     "output_type": "stream",
     "text": [
      "Hello, Alice!\n",
      "\n",
      "    Greets the user with the given name.\n",
      "\n",
      "    Parameters:\n",
      "        name (str): The name of the user to greet.\n",
      "\n",
      "    Returns:\n",
      "        str: A greeting message.\n",
      "    \n"
     ]
    }
   ],
   "source": [
    "name: str = \"Alice\"\n",
    "age: int = 30\n",
    "\n",
    "def greet(name: str) -> str:\n",
    "    \"\"\"\n",
    "    Greets the user with the given name.\n",
    "\n",
    "    Parameters:\n",
    "        name (str): The name of the user to greet.\n",
    "\n",
    "    Returns:\n",
    "        str: A greeting message.\n",
    "    \"\"\"\n",
    "    return f\"Hello, {name}!\"\n",
    "\n",
    "# Example usage\n",
    "print(greet(name))\n",
    "\n",
    "# Example usage of docstring\n",
    "print(greet.__doc__)"
   ]
  },
  {
   "cell_type": "markdown",
   "metadata": {},
   "source": [
    "Here we annotate variables as `name: type = value`, specify return types with `def function() -> type:` and include documentation in the form of a docstring for the function. Again, this is especially useful in cases where we are working with a lot of code, i.e. large projects."
   ]
  },
  {
   "cell_type": "markdown",
   "metadata": {},
   "source": [
    "#### Extra: A note on Rust {-}"
   ]
  },
  {
   "cell_type": "markdown",
   "metadata": {},
   "source": [
    "Rust is a strongly typed programming language that is gaining popularity within software companies: [Rust is designed to be performance oriented](https://www.bairesdev.com/blog/static-vs-dynamic-typing/) (4), more specifically it's strong typing ensures no runtime errors in critical components of the program due to unexpected type changes. While you can include all the documentation in the world in a python program, as long as dynamic typing is possible dynamic typing errors are also possible."
   ]
  },
  {
   "cell_type": "markdown",
   "metadata": {},
   "source": [
    "[Back to top](#term-portfolio-project)"
   ]
  },
  {
   "cell_type": "markdown",
   "metadata": {},
   "source": [
    "### The logging module {-}"
   ]
  },
  {
   "cell_type": "markdown",
   "metadata": {},
   "source": [
    "The python `logging` module allows us to get information about what's going on during program execution in various ways. We'll cover a simple example of it's use for debugging code, with code generated by chatGPT:"
   ]
  },
  {
   "cell_type": "code",
   "execution_count": null,
   "metadata": {},
   "outputs": [
    {
     "name": "stderr",
     "output_type": "stream",
     "text": [
      "2024-04-04 17:45:20,903 - DEBUG - Dividing 10 by 0\n",
      "2024-04-04 17:45:20,907 - ERROR - Division by zero!\n"
     ]
    },
    {
     "name": "stdout",
     "output_type": "stream",
     "text": [
      "Error occurred during division. Check the logs for details.\n"
     ]
    }
   ],
   "source": [
    "import logging\n",
    "\n",
    "# Configure logging to output debug messages to the console\n",
    "logging.basicConfig(level=logging.DEBUG, format='%(asctime)s - %(levelname)s - %(message)s')\n",
    "\n",
    "def divide(x, y):\n",
    "    \"\"\"Divide two numbers.\"\"\" # docstring\n",
    "    logging.debug(f\"Dividing {x} by {y}\") # 1. States action\n",
    "    # Exception handling:\n",
    "    try:\n",
    "        result = x / y\n",
    "        logging.debug(f\"Result of division: {result}\") # 2. States result if code runs\n",
    "        return result\n",
    "    except ZeroDivisionError:\n",
    "        logging.error(\"Division by zero!\") # 3. States reason for error given error\n",
    "        return None\n",
    "\n",
    "# Example usage\n",
    "numerator = 10\n",
    "denominator = 0\n",
    "result = divide(numerator, denominator)\n",
    "if result is not None:\n",
    "    print(f\"Result: {result}\")\n",
    "else:\n",
    "    print(\"Error occurred during division. Check the logs for details.\") # 4. States that code failed\n"
   ]
  },
  {
   "cell_type": "markdown",
   "metadata": {},
   "source": [
    "This output is quite a bit more elegant than the following program, which crashes when run:"
   ]
  },
  {
   "cell_type": "code",
   "execution_count": null,
   "metadata": {},
   "outputs": [
    {
     "ename": "ZeroDivisionError",
     "evalue": "division by zero",
     "output_type": "error",
     "traceback": [
      "\u001b[0;31m---------------------------------------------------------------------------\u001b[0m\n",
      "\u001b[0;31mZeroDivisionError\u001b[0m                         Traceback (most recent call last)\n",
      "\u001b[1;32m/home/name/Documents/notes/4SS24/SENG265/Assignments/TermProject/tpp2.ipynb Cell 27\u001b[0m line \u001b[0;36m1\n",
      "\u001b[0;32m----> <a href='vscode-notebook-cell:/home/name/Documents/notes/4SS24/SENG265/Assignments/TermProject/tpp2.ipynb#Y126sZmlsZQ%3D%3D?line=0'>1</a>\u001b[0m \u001b[39m10\u001b[39;49m\u001b[39m/\u001b[39;49m\u001b[39m0\u001b[39;49m\n",
      "\n",
      "\u001b[0;31mZeroDivisionError\u001b[0m: division by zero"
     ]
    }
   ],
   "source": [
    "10/0"
   ]
  },
  {
   "cell_type": "markdown",
   "metadata": {},
   "source": [
    "Note that, as with type annotations, logging is generally only necessary for large projects. The difference here is that with a combination of logging and exception handling, the user is able to stop an entire program/script from crashing due to issues while knowing the exact reason for the failure (rather than just a line number and a potentially cryptic error message)."
   ]
  },
  {
   "cell_type": "markdown",
   "metadata": {},
   "source": [
    "The logging module can also be used to send error messages at different severity levels (i.e. debug(), info(), warning(), error() critical()) as well as route them to different destinations such as files, network sockets, etc. for more complex logging and handling of programs."
   ]
  },
  {
   "cell_type": "markdown",
   "metadata": {},
   "source": [
    "[Back to top](#term-portfolio-project)"
   ]
  },
  {
   "cell_type": "markdown",
   "metadata": {},
   "source": [
    "### Style - PEP 8 {-}"
   ]
  },
  {
   "cell_type": "markdown",
   "metadata": {},
   "source": [
    "This section is simply a summary of/reference for the [PEP8 style guide](https://peps.python.org/pep-0008/) (5) for python, with included examples from chatGPT or the guide itself."
   ]
  },
  {
   "cell_type": "markdown",
   "metadata": {},
   "source": [
    "**1. Indentation: 4 spaces**"
   ]
  },
  {
   "cell_type": "code",
   "execution_count": null,
   "metadata": {},
   "outputs": [],
   "source": [
    "def my_function():\n",
    "    if condition:\n",
    "        statement1\n",
    "        statement2"
   ]
  },
  {
   "cell_type": "markdown",
   "metadata": {},
   "source": [
    "Note that many IDE's such as [VSCodium](https://vscodium.com/) default to using four spaces as a tab - it's best to check this beforehand to save time and retain consistency in a group environment."
   ]
  },
  {
   "cell_type": "markdown",
   "metadata": {},
   "source": [
    "**2. Line length: Max 79 characters**"
   ]
  },
  {
   "cell_type": "markdown",
   "metadata": {},
   "source": [
    "**3. Line breaks: After Binary Op's**"
   ]
  },
  {
   "cell_type": "code",
   "execution_count": null,
   "metadata": {},
   "outputs": [],
   "source": [
    "income = (12345\n",
    "          + 678910\n",
    "          + (111213 - 141516)\n",
    "          - 171819\n",
    "          - 202122)"
   ]
  },
  {
   "cell_type": "markdown",
   "metadata": {},
   "source": [
    "**4. Blank Lines:**"
   ]
  },
  {
   "cell_type": "markdown",
   "metadata": {},
   "source": [
    "- Surround top-level function/class definitions by two blank lines\n",
    "- Surround method definitions within a class by a single blank line"
   ]
  },
  {
   "cell_type": "markdown",
   "metadata": {},
   "source": [
    "**5. Imports: Multiline**"
   ]
  },
  {
   "cell_type": "code",
   "execution_count": null,
   "metadata": {},
   "outputs": [],
   "source": [
    "# Correct:\n",
    "import os\n",
    "import sys\n",
    "\n",
    "# Wrong:\n",
    "import sys, os"
   ]
  },
  {
   "cell_type": "markdown",
   "metadata": {},
   "source": [
    "**6. Dunder name location: After docstring, before imports**"
   ]
  },
  {
   "cell_type": "markdown",
   "metadata": {},
   "source": [
    "**7. Whitespace, contd.**"
   ]
  },
  {
   "cell_type": "markdown",
   "metadata": {},
   "source": [
    "- Avoid trailing spaces\n",
    "- Always surround binary op's with a single space on either side\n",
    "- Add whitespace around operators w lowest priority, i.e. `x*x + y*y` or `(a+b) * (a-b)`\n",
    "- Don't use whitespace around `=` when used to indicate keyword arguments or unannotated function parameters\n",
    "- Separate statements by a line, even when using shorthand if/else!"
   ]
  },
  {
   "cell_type": "markdown",
   "metadata": {},
   "source": [
    "**8. Trailing commas:**"
   ]
  },
  {
   "cell_type": "markdown",
   "metadata": {},
   "source": [
    "Only mandatory when making tuple of one element, in this case should be surrounded by parantheses:"
   ]
  },
  {
   "cell_type": "code",
   "execution_count": null,
   "metadata": {},
   "outputs": [],
   "source": [
    "FILES = ('setup.cfg',)"
   ]
  },
  {
   "cell_type": "markdown",
   "metadata": {},
   "source": [
    "**9. Comments:**"
   ]
  },
  {
   "cell_type": "markdown",
   "metadata": {},
   "source": [
    "- Block comments: Indent to same line as code\n",
    "- Inline comments: Use sparingly and refer to what's going on in the code, not exacty what the line does (i.e. `x += 1` doesn't need the comment `# increment x`)\n",
    "- Docstrings: For multiline, only the final `\"\"\"` should be on a line by itself."
   ]
  },
  {
   "cell_type": "markdown",
   "metadata": {},
   "source": [
    "**10. Naming Conventions:**"
   ]
  },
  {
   "cell_type": "markdown",
   "metadata": {},
   "source": [
    "- Never use 'l', 'I' or 'O' as single character variable names\n",
    "- Short (no/little underscores), lowercase names for modules & packages\n",
    "- CapWords for class names, types\n",
    "- Lowercase w underscores for function, variable, method names and instance variables; use mixedCase if it is already in use\n",
    "- Use _one leading underscore for non-public methods & instance variables\n",
    "- If an argument name clashes w keyword, use trailing underscore_ instead of chngng spllng\n",
    "- Use ALL_CAPS for constants"
   ]
  },
  {
   "cell_type": "markdown",
   "metadata": {},
   "source": [
    "**11. Programming recommendations:**"
   ]
  },
  {
   "cell_type": "markdown",
   "metadata": {},
   "source": [
    "See [the docs](https://peps.python.org/pep-0008/#programming-recommendations)! (7)"
   ]
  },
  {
   "cell_type": "markdown",
   "metadata": {},
   "source": [
    "[Back to top](#term-portfolio-project)"
   ]
  },
  {
   "cell_type": "markdown",
   "metadata": {},
   "source": [
    "### Some important libraries {-}"
   ]
  },
  {
   "cell_type": "markdown",
   "metadata": {},
   "source": [
    "Since programming in the first couple of years of a computer science major is mostly limited to simple data structures, most of my use of Python use has been to help with math portion of my degree. Here are some of my most used/favorite libraries, with some examples taken from code from my [MATH248](https://www.uvic.ca/calendar/future/undergrad/index.php#/courses/HyVe3daQV?bc=true&bcCurrent=MATH248%20-%20Computer%20Assisted%20Mathematics&bcGroup=Mathematics%20(MATH)&bcItemType=courses) (8) notes:"
   ]
  },
  {
   "cell_type": "markdown",
   "metadata": {},
   "source": [
    "#### 1. Numpy {-}"
   ]
  },
  {
   "cell_type": "markdown",
   "metadata": {},
   "source": [
    "The Python math library is about the worst library you could possible try to use for scientific computing due to many factors including their slow speed and lack of support for vectorized operations. Thankfully we have numpy!"
   ]
  },
  {
   "cell_type": "code",
   "execution_count": 1,
   "metadata": {},
   "outputs": [],
   "source": [
    "import numpy as np\n",
    "# Used for\n",
    "# - np.exp(x) Exponential fn\n",
    "# - np.log(x) ln\n",
    "# - Plotting: \n",
    "#   - np.arange(startVal, endVal, stepSize), Spec'd array of values\n",
    "#   - np.linspace(startVal, endVal, numSteps) similar to above\n",
    "# - np.sqrt(x) Sqrt\n",
    "# - np.abs(x) Absolute val\n",
    "# - matmul(A, B) Multiplies two matrixes, reminder must be \n",
    "# - np.zeros((m, n)) Returns m*n matrix of zeros\n",
    "# and much more!"
   ]
  },
  {
   "cell_type": "markdown",
   "metadata": {},
   "source": [
    "#### 2. Scipy {-}"
   ]
  },
  {
   "cell_type": "markdown",
   "metadata": {},
   "source": [
    "Although I don't have too much experience using Scipy, it contains some pre-built functions that would be tedious to construct using just numpy. I've used it quite a bit for calculus:"
   ]
  },
  {
   "cell_type": "code",
   "execution_count": 11,
   "metadata": {},
   "outputs": [],
   "source": [
    "# Root finding:\n",
    "# 1. Root scalar\n",
    "from scipy.optimize import root_scalar\n",
    "# Takes arguments f, fprime(req'd for newton), args=()(required for function with args), \n",
    "# bracket=[](req'd for bisect), x0(req'd), x1, xtol(absolute tolerance for termination), \n",
    "# rtol, maxiter(max iterations), method=\"...\"\n",
    "# help(root_scalar)\n",
    "# Note: Method must be in quotes, i.e. \"newton\"\n",
    "from scipy.optimize import fsolve\n",
    "# Takes args f, x0, args=(), xtol, maxfev(max num calls to function)\n",
    "# Can solve multi-dimensional equations, such as SIR model"
   ]
  },
  {
   "cell_type": "markdown",
   "metadata": {},
   "source": [
    "Here's an example using the fsolve method from above to solve the equation $f(x) = x^3 - 2x^2 + 3x - 6$:"
   ]
  },
  {
   "cell_type": "code",
   "execution_count": 17,
   "metadata": {},
   "outputs": [
    {
     "data": {
      "text/plain": [
       "array([2.])"
      ]
     },
     "metadata": {},
     "output_type": "display_data"
    },
    {
     "name": "stdout",
     "output_type": "stream",
     "text": [
      "[2.]\n"
     ]
    }
   ],
   "source": [
    "f = lambda x: x**3 - 2*x**2 + 3*x - 6\n",
    "x0 = 0\n",
    "root_f = fsolve(f, x0)\n",
    "display(root_f)\n",
    "print(root_f) # Print real roots of f\n"
   ]
  },
  {
   "cell_type": "markdown",
   "metadata": {},
   "source": [
    "#### 3. Sympy {-}"
   ]
  },
  {
   "cell_type": "markdown",
   "metadata": {},
   "source": [
    "Sympy is the BEST: It allows you to both do symbolic calculations in python and convert them directly to latex! For example, let's solve the system of equations\n",
    "$$\n",
    "\\alpha x +\\beta y + \\gamma z = 1 \\\\\n",
    "x+y+z = 0\n",
    "$$\n",
    "\n",
    "displaying the output both as math and latex:"
   ]
  },
  {
   "cell_type": "code",
   "execution_count": 1,
   "metadata": {},
   "outputs": [
    {
     "name": "stdout",
     "output_type": "stream",
     "text": [
      "Display math:\n"
     ]
    },
    {
     "data": {
      "text/latex": [
       "$\\displaystyle \\left\\{\\left( \\frac{z \\left(\\beta - \\gamma\\right)}{\\alpha - \\beta} + \\frac{1}{\\alpha - \\beta}, \\  \\frac{z \\left(- \\alpha + \\gamma\\right)}{\\alpha - \\beta} - \\frac{1}{\\alpha - \\beta}, \\  z\\right)\\right\\}$"
      ],
      "text/plain": [
       "{(z*(beta - gamma)/(alpha - beta) + 1/(alpha - beta), z*(-alpha + gamma)/(alpha - beta) - 1/(alpha - beta), z)}"
      ]
     },
     "metadata": {},
     "output_type": "display_data"
    },
    {
     "data": {
      "text/latex": [
       "$\\displaystyle \\frac{z \\left(\\beta - \\gamma\\right)}{\\alpha - \\beta} + \\frac{1}{\\alpha - \\beta}$"
      ],
      "text/plain": [
       "z*(beta - gamma)/(alpha - beta) + 1/(alpha - beta)"
      ]
     },
     "metadata": {},
     "output_type": "display_data"
    },
    {
     "data": {
      "text/latex": [
       "$\\displaystyle \\frac{z \\left(- \\alpha + \\gamma\\right)}{\\alpha - \\beta} - \\frac{1}{\\alpha - \\beta}$"
      ],
      "text/plain": [
       "z*(-alpha + gamma)/(alpha - beta) - 1/(alpha - beta)"
      ]
     },
     "metadata": {},
     "output_type": "display_data"
    },
    {
     "data": {
      "text/latex": [
       "$\\displaystyle z$"
      ],
      "text/plain": [
       "z"
      ]
     },
     "metadata": {},
     "output_type": "display_data"
    },
    {
     "name": "stdout",
     "output_type": "stream",
     "text": [
      "Latex:\n",
      "\\frac{z \\left(\\beta - \\gamma\\right)}{\\alpha - \\beta} + \\frac{1}{\\alpha - \\beta}\n",
      "\\frac{z \\left(- \\alpha + \\gamma\\right)}{\\alpha - \\beta} - \\frac{1}{\\alpha - \\beta}\n",
      "z\n"
     ]
    }
   ],
   "source": [
    "from sympy import *\n",
    "from sympy.abc import x, y, z, alpha, beta, gamma\n",
    "from IPython.display import display\n",
    "\n",
    "fn = alpha*x + beta*y + gamma*z\n",
    "soln = linsolve([Eq(fn, 1), x+y+z], (x,y,z))\n",
    "\n",
    "\n",
    "f = soln.args[0]\n",
    "x, y, z = f\n",
    "\n",
    "print(\"Display math:\")\n",
    "display(soln)\n",
    "display(x, y, z)\n",
    "\n",
    "print(\"Latex:\")\n",
    "print_latex(x)\n",
    "print_latex(y)\n",
    "print_latex(z)"
   ]
  },
  {
   "cell_type": "markdown",
   "metadata": {},
   "source": [
    "#### 4. Pandas {-}"
   ]
  },
  {
   "cell_type": "markdown",
   "metadata": {},
   "source": [
    "Pandas is extraordinarily useful for working with data. Here's an example where we use it to read tabular data from a webpage, storing it as an editable `dataframe` object:"
   ]
  },
  {
   "cell_type": "code",
   "execution_count": 12,
   "metadata": {},
   "outputs": [
    {
     "data": {
      "text/html": [
       "<div>\n",
       "<style scoped>\n",
       "    .dataframe tbody tr th:only-of-type {\n",
       "        vertical-align: middle;\n",
       "    }\n",
       "\n",
       "    .dataframe tbody tr th {\n",
       "        vertical-align: top;\n",
       "    }\n",
       "\n",
       "    .dataframe thead th {\n",
       "        text-align: right;\n",
       "    }\n",
       "</style>\n",
       "<table border=\"1\" class=\"dataframe\">\n",
       "  <thead>\n",
       "    <tr style=\"text-align: right;\">\n",
       "      <th></th>\n",
       "      <th>Company</th>\n",
       "      <th>Contact</th>\n",
       "      <th>Country</th>\n",
       "    </tr>\n",
       "  </thead>\n",
       "  <tbody>\n",
       "    <tr>\n",
       "      <th>0</th>\n",
       "      <td>Alfreds Futterkiste</td>\n",
       "      <td>Maria Anders</td>\n",
       "      <td>Germany</td>\n",
       "    </tr>\n",
       "    <tr>\n",
       "      <th>1</th>\n",
       "      <td>Centro comercial Moctezuma</td>\n",
       "      <td>Francisco Chang</td>\n",
       "      <td>Mexico</td>\n",
       "    </tr>\n",
       "    <tr>\n",
       "      <th>2</th>\n",
       "      <td>Ernst Handel</td>\n",
       "      <td>Roland Mendel</td>\n",
       "      <td>Austria</td>\n",
       "    </tr>\n",
       "    <tr>\n",
       "      <th>3</th>\n",
       "      <td>Island Trading</td>\n",
       "      <td>Helen Bennett</td>\n",
       "      <td>UK</td>\n",
       "    </tr>\n",
       "    <tr>\n",
       "      <th>4</th>\n",
       "      <td>Laughing Bacchus Winecellars</td>\n",
       "      <td>Yoshi Tannamuri</td>\n",
       "      <td>Canada</td>\n",
       "    </tr>\n",
       "    <tr>\n",
       "      <th>5</th>\n",
       "      <td>Magazzini Alimentari Riuniti</td>\n",
       "      <td>Giovanni Rovelli</td>\n",
       "      <td>Italy</td>\n",
       "    </tr>\n",
       "  </tbody>\n",
       "</table>\n",
       "</div>"
      ],
      "text/plain": [
       "                        Company           Contact  Country\n",
       "0           Alfreds Futterkiste      Maria Anders  Germany\n",
       "1    Centro comercial Moctezuma   Francisco Chang   Mexico\n",
       "2                  Ernst Handel     Roland Mendel  Austria\n",
       "3                Island Trading     Helen Bennett       UK\n",
       "4  Laughing Bacchus Winecellars   Yoshi Tannamuri   Canada\n",
       "5  Magazzini Alimentari Riuniti  Giovanni Rovelli    Italy"
      ]
     },
     "metadata": {},
     "output_type": "display_data"
    }
   ],
   "source": [
    "# Requires lxml (pip)\n",
    "import pandas as pd\n",
    "url = 'https://www.w3schools.com/html/html_tables.asp' # (9)\n",
    "table = pd.read_html(url)\n",
    "display(table[0])"
   ]
  },
  {
   "cell_type": "markdown",
   "metadata": {},
   "source": [
    "#### 5. Matplotlib"
   ]
  },
  {
   "cell_type": "markdown",
   "metadata": {},
   "source": [
    "While I feel like there's a much better way to do graphs in python, you can get some interesting results using only matplotlib:"
   ]
  },
  {
   "cell_type": "code",
   "execution_count": 3,
   "metadata": {},
   "outputs": [
    {
     "data": {
      "text/plain": [
       "<mpl_toolkits.mplot3d.art3d.QuadContourSet3D at 0x72f79670ced0>"
      ]
     },
     "execution_count": 3,
     "metadata": {},
     "output_type": "execute_result"
    },
    {
     "data": {
      "image/png": "[encoded data removed]",
      "text/plain": [
       "<Figure size 640x480 with 1 Axes>"
      ]
     },
     "metadata": {},
     "output_type": "display_data"
    }
   ],
   "source": [
    "import numpy as np \n",
    "import matplotlib.pyplot as plt\n",
    "\n",
    "f = lambda x, y: np.sin(np.sqrt(x**2 + y**2))\n",
    "x = np.linspace(-5, 5, 30)\n",
    "y = np.linspace(-5, 5, 30)\n",
    "\n",
    "X, Y = np.meshgrid(x, y)\n",
    "Z = f(X, Y)\n",
    "\n",
    "fig = plt.figure()\n",
    "ax = plt.axes(projection='3d')\n",
    "ax.contour3D(X, Y, Z, 50, cmap='binary')\n"
   ]
  },
  {
   "cell_type": "markdown",
   "metadata": {},
   "source": [
    "[Back to top](#term-portfolio-project)"
   ]
  },
  {
   "cell_type": "markdown",
   "metadata": {},
   "source": [
    "____"
   ]
  },
  {
   "cell_type": "markdown",
   "metadata": {},
   "source": [
    "## Answers to Selected Questions {-}"
   ]
  },
  {
   "cell_type": "markdown",
   "metadata": {},
   "source": [
    "### Pt. 1 {-}"
   ]
  },
  {
   "cell_type": "markdown",
   "metadata": {},
   "source": [
    "1. **Required**. Describe your continued learning experience in SENG 265. Make it a weekly habit to document your learning experience.\n",
    "   - The entire document serves as a 'weekly learning experience' notebook - The weeks during which specific materials were covered are included in the [table of contentes](#table-of-contents).\n",
    "2. What is the core functionality of Jupyter Notebooks?\n",
    "   - [About notebooks, magics](#about-notebooks-magics)\n",
    "3. Summarize simple Jupyter Notebook markdown including how to insert links and images?\n",
    "   - Headings: `$`, `$$`, ...\n",
    "   - Links/images: `[Name](link)`/`![Name](/path/to/image.jpg)`\n",
    "4. How can you typeset mathematical formulas including Greek letters using LaTeX Markdown in Jupyter Notebooks? LaTeX is used extensively used for documents with mathematical formulas.  \n",
    "   - Inline: `$x \\sim \\text{Binomial}(n, p)$` $\\rightarrow x \\sim \\text{Binomial}(n, p)$\n",
    "   - Display:\n",
    "   `$$ |x| = \\begin{cases} -x, \\quad x < 0 \\\\ x, \\quad x \\geq 0 \\end{cases} $$` $\\rightarrow$\n",
    "   $$\n",
    "   |x| = \\begin{cases}\n",
    "   -x, \\quad x < 0 \\\\\n",
    "   x, \\quad x \\geq 0\n",
    "   \\end{cases}\n",
    "   $$\n",
    "5. How prevalent is Unix or Linux in software development today?\n",
    "   - In short, Unix/Linux is like the C of operating systems: We wouldn't have the more popular options without it as it's their foundation. It's used extensively for servers and non-pc devices, albeit has quite a few users (myself included) who prefer it's functionality over less transparent OS's such as MacOS and Microsoft.\n",
    "6.  What are the most popular programming languages and why?\n",
    "   - Python comes first since it is by far the easiest language to write. Others include Java, JS/CSS and HTML, C and C++.\n",
    "   - C is popular because it's about the closest you can get to writing assembly without having to write assembly - if you want a fast program that does exactly what you tell it to, C and C++ are the way to go. They also have extensive libraries which (once you know what they are) make writing code fairly easy\n",
    "   - Java is popular because of it's portability, but as of late I don't see ths being a standout feature of java over any other programming language. It is also my least favorite to write.\n",
    "7.  Describe the fundamental differences between C and Python.\n",
    "   - The main difference is that C is a low-level language (pretty much a step up from assembly) and Python is pretty much the highest-level language.\n",
    "8.  How challenging were learning C and completing Assignment 1 for you?\n",
    "   - It was initially very challenging but once I figured out pointers and got into a 'groove' with chatGPT I found it easier to use than Java, granted I was not using the stack or dynamic memory.\n",
    "9.  **Required**: What are your personal insights, aha moments, and epiphanies you experienced in the first part of the SENG 265 course?\n",
    "   - The most significant insight I've had so far is how important it is to know how to *really* know bash. After I had written a couple simple scripts to automate lab server tasks I had a moment of awe at how powerful it could be - you can automate absolutely anything that a computer could do as long as you can figure out how to do it.\n",
    "   - This is less of an epiphany, but still significant: After learning a bit of C for the first assignment, other languages are starting to make more sense, especially when it comes to pointers/pass-by-value/ref.\n",
    "10. **Required**: How did you experience chatGPT as a learning tool?\n",
    "   - [Introduction: Jupyter Magics](#introduction-jupyter-magics-creating-a-table-of-contents)\n",
    "   - [A note on call-by-reference and call-by-value](#a-note-on-call-by-reference-and-call-by-value)\n",
    "   - I've found chatGPT is extremely helpful for small, explicitly defined tasks. For example:\n",
    "     - I had it write me a minimal .config file for conky, a system manager\n",
    "     - I frequently have it write examples of code using specific functions to see how they're used in context\n",
    "     - It usually gives a better response than google in far less time"
   ]
  },
  {
   "cell_type": "markdown",
   "metadata": {},
   "source": [
    "[Back to top](#term-portfolio-project)"
   ]
  },
  {
   "cell_type": "markdown",
   "metadata": {},
   "source": [
    "### Pt. 2 {-}"
   ]
  },
  {
   "cell_type": "markdown",
   "metadata": {},
   "source": [
    "1. Describe the notion of and motivation for typing and typing hints in Python. The strongly typed programming language Rust is rapidly being adopted by companies and is used to improve the performance of Python. Why is Rust getting so popular? Does typing play a role?\n",
    "   - [Python Type Annotations and Docstrings](#python-type-annotations-and-docstrings)\n",
    "\n",
    "\n",
    "2. Describe the concepts of the Python logging module.\n",
    "   - [The Logging Module](#the-logging-module)\n",
    "\n",
    "\n",
    "16. **Required:** Summarize PEP 8 and be prepared to answer questions about PEP 8 in the final exam. \n",
    "    - [Style - Pep 8](#style---pep-8)\n",
    "\n",
    "17. **Required:** Describe at least five of your favourite libraries in the Python ecosystem.\n",
    "    - [Some Important Libraries](#some-important-libraries)\n",
    "\n",
    "18. **Required:** Document your continued learning experience in SENG 265.\n",
    "    - I hope that this document serves as a sufficient documentation. It has been updated with topics that were covered throughout the course that I did not already know or wanted to review.\n",
    "\n",
    "19. **Required:** How did you experience Generative AI (e.g., chatGPT or Copilot) as a learning tool? This answer must be different from what you answered in TPP1 (i.e., the assumption is that you got to know chatGPT in the first part of the course and you really used it in the second part of the course).\n",
    "    - Throughout the course I've gone from forgetting that chatGPT exists to going to it almost exclusively for help with almost any kind of problem solving. As I mentioned in my answer to pt.1, it's been far more helpful that google.\n",
    "    - During the second portion of the course I think I still use it in a similar way, I just use it a lot more and for things that have nothing to do with code! For example where I started using it to solve small problems I was having when coding projects, I now ask it more general questions that I would normally ask google, i.e. for movie recommendations - the other day I even suggested my sister use it to find poetry for a paper she was writing. It turned this decent-sized task into one that took seconds.\n",
    "\n",
    "20. **Required:** What are your personal insights, aha moments, and epiphanies you experienced in the second part of the SENG 265 course?\n",
    "    - The biggest epiphany I've had (thus the addition of the large Python section to this file) has been that I had zero idea how to use python 'properly' (I probably still don't, it will take some practice). I think I took it for granted since when starting out you don't see any of the more useful features as those mentioned above: I was using it almost exclusively in a notebook which - while very helpful for quick code, note-taking and math help; doesn't do the language justice. It is quite a bit more straightforward than C in terms of making scripts/full-blown projects and while I still prefer coding smaller school projects in C (it feels a lot more 'straight-forward') I think that as I continue to improve my python skills it will end up as my go-to language."
   ]
  },
  {
   "cell_type": "markdown",
   "metadata": {},
   "source": [
    "[Back to top](#term-portfolio-project)"
   ]
  },
  {
   "cell_type": "markdown",
   "metadata": {},
   "source": [
    "____"
   ]
  },
  {
   "cell_type": "markdown",
   "metadata": {},
   "source": [
    "## Citations and References {-}"
   ]
  },
  {
   "cell_type": "markdown",
   "metadata": {},
   "source": [
    "1. Custom commands for linux terminal, GeeksforGeeks (2018) https://www.geeksforgeeks.org/custom-commands-linux-terminal/\n",
    "2. Where/how should I store scripts? Unix & Linux Stack Exchange (n.d.) https://unix.stackexchange.com/questions/604818/where-how-should-i-store-scripts\n",
    "3. --help vs man command, Unix & Linux Stack Exchange (n.d.)https://unix.stackexchange.com/questions/86571/command-help-vs-man-command\n",
    "4. Static vs Dynamic Typing, BairesDevBlog (n.d.) https://www.bairesdev.com/blog/static-vs-dynamic-typing/ \n",
    "5. PEP 8, Python Enhancement Proposals (2023) https://peps.python.org/pep-0008/\n",
    "6. VsCodium (n.d.) https://vscodium.com/\n",
    "7. Programming Recommendations, Python Enhancement Proposals (2023) https://peps.python.org/pep-0008/#programming-recommendations \n",
    "8. MATH248, University of Victoria Academic Calendar (2024) https://www.uvic.ca/calendar/future/undergrad/index.php#/courses/HyVe3daQV?bc=true&bcCurrent=MATH248%20-%20Computer%20Assisted%20Mathematics&bcGroup=Mathematics%20(MATH)&bcItemType=courses\n",
    "9. HTML Tables, W3Schools (n.d.) https://www.w3schools.com/html/html_tables.asp\n",
    "10. Report: Tesla Autopilot Involved in 736 Crashes since 2019, Sebastian Blanco (2023) https://www.caranddriver.com/news/a44185487/report-tesla-autopilot-crashes-since-2019/"
   ]
  },
  {
   "cell_type": "markdown",
   "metadata": {},
   "source": [
    "[Back to top](#term-portfolio-project)"
   ]
  },
  {
   "cell_type": "markdown",
   "metadata": {},
   "source": [
    "____"
   ]
  }
 ],
 "metadata": {
  "kernelspec": {
   "display_name": "Python 3 (ipykernel)",
   "language": "python",
   "name": "python3"
  },
  "language_info": {
   "codemirror_mode": {
    "name": "ipython",
    "version": 3
   },
   "file_extension": ".py",
   "mimetype": "text/x-python",
   "name": "python",
   "nbconvert_exporter": "python",
   "pygments_lexer": "ipython3",
   "version": "3.11.8"
  }
 },
 "nbformat": 4,
 "nbformat_minor": 4
}
